{
 "cells": [
  {
   "cell_type": "code",
   "execution_count": null,
   "metadata": {},
   "outputs": [],
   "source": []
  },
  {
   "cell_type": "markdown",
   "metadata": {},
   "source": [
    "# `requests` 통해 웹 정보를 받아 크롤링"
   ]
  },
  {
   "cell_type": "code",
   "execution_count": 3,
   "metadata": {},
   "outputs": [],
   "source": [
    "import requests"
   ]
  },
  {
   "cell_type": "markdown",
   "metadata": {},
   "source": [
    "### 테스트"
   ]
  },
  {
   "cell_type": "code",
   "execution_count": 12,
   "metadata": {},
   "outputs": [],
   "source": [
    "## https://comic.naver.com/webtoon 에 접속했을 때, 요일별 현재 연재 중인 전체 웹툰이 담긴 api\n",
    "url = \"https://comic.naver.com/api/webtoon/titlelist/weekday?order=user\"\n",
    "\n",
    "head  = {'User-Agent':\n",
    "'Mozilla/5.0 (Windows NT 10.0; Win64; x64) AppleWebKit/537.36 (KHTML, like Gecko) Chrome/115.0.0.0 Safari/537.36'}\n",
    "\n",
    "r = requests.get(url, headers=head)\n",
    "# r.text"
   ]
  },
  {
   "cell_type": "code",
   "execution_count": 6,
   "metadata": {},
   "outputs": [
    {
     "data": {
      "text/plain": [
       "{'titleId': 783053,\n",
       " 'titleName': '김부장',\n",
       " 'author': '박태준 만화회사 / 정종택',\n",
       " 'thumbnailUrl': 'https://image-comic.pstatic.net/webtoon/783053/thumbnail/thumbnail_IMAG21_d7732f14-26da-4e35-8762-660cc87b53f1.jpg',\n",
       " 'up': False,\n",
       " 'rest': False,\n",
       " 'bm': False,\n",
       " 'adult': False,\n",
       " 'starScore': 9.47538,\n",
       " 'viewCount': 0,\n",
       " 'openToday': False,\n",
       " 'potenUp': False,\n",
       " 'bestChallengeLevelUp': False,\n",
       " 'finish': False,\n",
       " 'new': False}"
      ]
     },
     "execution_count": 6,
     "metadata": {},
     "output_type": "execute_result"
    }
   ],
   "source": [
    "## 하나의 웹툰 찾기 \n",
    "r.json()['titleListMap']['TUESDAY'][0]"
   ]
  },
  {
   "cell_type": "code",
   "execution_count": 11,
   "metadata": {},
   "outputs": [
    {
     "data": {
      "text/plain": [
       "[783053, 784248, 796152, 790713, 789979, 730656]"
      ]
     },
     "execution_count": 11,
     "metadata": {},
     "output_type": "execute_result"
    }
   ],
   "source": [
    "### 화요일 웹툰 titleId 모으기 테스트\n",
    "\n",
    "a = []\n",
    "for i in range(r.json()['titleListMap']['TUESDAY'].__len__()):\n",
    "    a.append(r.json()['titleListMap']['TUESDAY'][i]['titleId'])\n",
    "a[:6]"
   ]
  },
  {
   "cell_type": "code",
   "execution_count": 59,
   "metadata": {},
   "outputs": [
    {
     "data": {
      "text/plain": [
       "dict_keys(['THURSDAY', 'FRIDAY', 'MONDAY', 'SUNDAY', 'WEDNESDAY', 'TUESDAY', 'SATURDAY'])"
      ]
     },
     "execution_count": 59,
     "metadata": {},
     "output_type": "execute_result"
    }
   ],
   "source": [
    "r.json()['titleListMap'].keys()"
   ]
  },
  {
   "cell_type": "code",
   "execution_count": null,
   "metadata": {},
   "outputs": [],
   "source": []
  },
  {
   "cell_type": "markdown",
   "metadata": {},
   "source": [
    "## 요일 전체 `titleId` 가져오기"
   ]
  },
  {
   "cell_type": "code",
   "execution_count": 31,
   "metadata": {},
   "outputs": [],
   "source": [
    "import requests\n",
    "from tqdm import tqdm"
   ]
  },
  {
   "cell_type": "code",
   "execution_count": 30,
   "metadata": {},
   "outputs": [],
   "source": [
    "## https://comic.naver.com/webtoon 에 접속했을 때, 요일별 현재 연재 중인 전체 웹툰이 담긴 api\n",
    "url = \"https://comic.naver.com/api/webtoon/titlelist/weekday?order=user\"\n",
    "\n",
    "head  = {'User-Agent':\n",
    "'Mozilla/5.0 (Windows NT 10.0; Win64; x64) AppleWebKit/537.36 (KHTML, like Gecko) Chrome/115.0.0.0 Safari/537.36'}\n",
    "\n",
    "r = requests.get(url, headers=head)"
   ]
  },
  {
   "cell_type": "code",
   "execution_count": 32,
   "metadata": {},
   "outputs": [
    {
     "name": "stderr",
     "output_type": "stream",
     "text": [
      "100%|██████████| 7/7 [00:01<00:00,  4.68it/s]\n"
     ]
    }
   ],
   "source": [
    "week_day = list(r.json()['titleListMap'].keys()) # 요일 담은 리스트\n",
    "\n",
    "titleId_list =[]\n",
    "for i in tqdm(week_day):\n",
    "    for j in range(r.json()['titleListMap'][i].__len__()):\n",
    "        titleId_list.append(r.json()['titleListMap'][i][j]['titleId'])\n"
   ]
  },
  {
   "cell_type": "code",
   "execution_count": 34,
   "metadata": {},
   "outputs": [
    {
     "data": {
      "text/plain": [
       "616"
      ]
     },
     "execution_count": 34,
     "metadata": {},
     "output_type": "execute_result"
    }
   ],
   "source": [
    "len(titleId_list)"
   ]
  },
  {
   "cell_type": "code",
   "execution_count": null,
   "metadata": {},
   "outputs": [],
   "source": []
  },
  {
   "cell_type": "markdown",
   "metadata": {},
   "source": [
    "## 각 웹툰의 정보 크롤링"
   ]
  },
  {
   "cell_type": "code",
   "execution_count": 35,
   "metadata": {},
   "outputs": [],
   "source": [
    "import requests"
   ]
  },
  {
   "cell_type": "markdown",
   "metadata": {},
   "source": [
    "### 테스트"
   ]
  },
  {
   "cell_type": "code",
   "execution_count": 36,
   "metadata": {},
   "outputs": [],
   "source": [
    "# 하나의 웹툰에 저장된 정보가 담긴 url api\n",
    "url = \"https://comic.naver.com/api/article/list/info?titleId=758037\"\n",
    "\n",
    "head  = {'User-Agent':\n",
    "'Mozilla/5.0 (Windows NT 10.0; Win64; x64) AppleWebKit/537.36 (KHTML, like Gecko) Chrome/115.0.0.0 Safari/537.36'}"
   ]
  },
  {
   "cell_type": "code",
   "execution_count": 44,
   "metadata": {},
   "outputs": [],
   "source": [
    "r2 = requests.get(url, headers=head)\n",
    "# r2.text"
   ]
  },
  {
   "cell_type": "code",
   "execution_count": 55,
   "metadata": {},
   "outputs": [
    {
     "data": {
      "text/plain": [
       "['MONDAY']"
      ]
     },
     "execution_count": 55,
     "metadata": {},
     "output_type": "execute_result"
    }
   ],
   "source": [
    "r2.json()['publishDayOfWeekList']"
   ]
  },
  {
   "cell_type": "code",
   "execution_count": 58,
   "metadata": {},
   "outputs": [
    {
     "data": {
      "text/plain": [
       "dict_keys(['titleId', 'thumbnailUrl', 'posterThumbnailUrl', 'sharedThumbnailUrl', 'titleName', 'webtoonLevelCode', 'author', 'thumbnailBadgeList', 'age', 'publishDescription', 'synopsis', 'favoriteCount', 'favorite', 'firstArticle', 'publishDayOfWeekList', 'rest', 'finished', 'dailyPass', 'curationTagList', 'adBannerList', 'chargeBestChallenge', 'contentsNo', 'new'])"
      ]
     },
     "execution_count": 58,
     "metadata": {},
     "output_type": "execute_result"
    }
   ],
   "source": [
    "r2.json().keys()"
   ]
  },
  {
   "cell_type": "code",
   "execution_count": 61,
   "metadata": {},
   "outputs": [],
   "source": [
    "col_list = [\"titleName\", \"author\", \"age\" , \"favoriteCount\", \"publishDayOfWeekList\", \"curationTagList\"]"
   ]
  },
  {
   "cell_type": "code",
   "execution_count": null,
   "metadata": {},
   "outputs": [],
   "source": [
    "## 모을 데이터 컬럼:\n",
    "### \"titleName, author, age , favoriteCount, publishDayOfWeekList, curationTagList\"\n",
    "\n",
    "#### doc string 활용 내용\n",
    "\n",
    "# titleName 웹툰 제목\n",
    "# author 작가\n",
    "# age 시청 연령\n",
    "# publishDayOfWeekList 연재 요일\n",
    "# favoriteCount 관심도 수\n",
    "# curationTagList 웹툰 내용 관련 해시태그"
   ]
  },
  {
   "cell_type": "code",
   "execution_count": 70,
   "metadata": {},
   "outputs": [
    {
     "data": {
      "text/plain": [
       "[{'id': 758037,\n",
       "  'tagName': '액션',\n",
       "  'urlPath': '/webtoon?tab=genre&genre=ACTION',\n",
       "  'curationType': 'GENRE_ACTION'},\n",
       " {'id': 134,\n",
       "  'tagName': '블루스트링',\n",
       "  'urlPath': '/curation/list?type=CUSTOM_TAG&id=134',\n",
       "  'curationType': 'CUSTOM_TAG'},\n",
       " {'id': 119,\n",
       "  'tagName': '사이다',\n",
       "  'urlPath': '/curation/list?type=CUSTOM_TAG&id=119',\n",
       "  'curationType': 'CUSTOM_TAG'},\n",
       " {'id': 95,\n",
       "  'tagName': '학원물',\n",
       "  'urlPath': '/curation/list?type=CUSTOM_TAG&id=95',\n",
       "  'curationType': 'CUSTOM_TAG'},\n",
       " {'id': 46,\n",
       "  'tagName': '다크히어로',\n",
       "  'urlPath': '/curation/list?type=CUSTOM_TAG&id=46',\n",
       "  'curationType': 'CUSTOM_TAG'},\n",
       " {'id': 53,\n",
       "  'tagName': '먼치킨',\n",
       "  'urlPath': '/curation/list?type=CUSTOM_TAG&id=53',\n",
       "  'curationType': 'CUSTOM_TAG'}]"
      ]
     },
     "execution_count": 70,
     "metadata": {},
     "output_type": "execute_result"
    }
   ],
   "source": [
    "r2.json()['curationTagList']"
   ]
  },
  {
   "cell_type": "code",
   "execution_count": 71,
   "metadata": {},
   "outputs": [],
   "source": [
    "### 만약 분석을 추가한다면?\n",
    "#### 관심도 수 와 웹툰 랭킹을 연관지을 수 있으려나?? -> 조회순으로 보여지는 각 요일의 순서 == 랭킹이라고 가정.\n"
   ]
  },
  {
   "cell_type": "code",
   "execution_count": null,
   "metadata": {},
   "outputs": [],
   "source": []
  },
  {
   "cell_type": "code",
   "execution_count": null,
   "metadata": {},
   "outputs": [],
   "source": []
  },
  {
   "cell_type": "code",
   "execution_count": null,
   "metadata": {},
   "outputs": [],
   "source": []
  },
  {
   "cell_type": "code",
   "execution_count": null,
   "metadata": {},
   "outputs": [],
   "source": []
  },
  {
   "cell_type": "code",
   "execution_count": null,
   "metadata": {},
   "outputs": [],
   "source": []
  },
  {
   "cell_type": "markdown",
   "metadata": {},
   "source": [
    "# `selenium` 을 활용한 크롤링"
   ]
  },
  {
   "cell_type": "code",
   "execution_count": null,
   "metadata": {},
   "outputs": [],
   "source": [
    "# pip install selenium"
   ]
  },
  {
   "cell_type": "code",
   "execution_count": null,
   "metadata": {},
   "outputs": [],
   "source": [
    "from selenium import webdriver\n",
    "import selenium"
   ]
  },
  {
   "cell_type": "code",
   "execution_count": null,
   "metadata": {},
   "outputs": [],
   "source": [
    "driver = webdriver.Chrome()"
   ]
  },
  {
   "cell_type": "code",
   "execution_count": null,
   "metadata": {},
   "outputs": [],
   "source": [
    "driver.get(\"https://comic.naver.com/webtoon\")"
   ]
  },
  {
   "cell_type": "code",
   "execution_count": null,
   "metadata": {},
   "outputs": [],
   "source": [
    "from selenium.webdriver.common.by import By\n",
    "driver.find_element(By.CSS_SELECTOR,\n",
    "                    \"#container > div.component_wrap.type2 > div.WeekdayMainView__daily_all_wrap--UvRFc > div:nth-child(1) > ul > li:nth-child(1) > div > a > span\").click()"
   ]
  },
  {
   "cell_type": "code",
   "execution_count": null,
   "metadata": {},
   "outputs": [],
   "source": [
    "driver.find_element(By.CSS_SELECTOR,\n",
    ").click()"
   ]
  },
  {
   "cell_type": "code",
   "execution_count": null,
   "metadata": {},
   "outputs": [],
   "source": []
  }
 ],
 "metadata": {
  "kernelspec": {
   "display_name": "venv",
   "language": "python",
   "name": "python3"
  },
  "language_info": {
   "codemirror_mode": {
    "name": "ipython",
    "version": 3
   },
   "file_extension": ".py",
   "mimetype": "text/x-python",
   "name": "python",
   "nbconvert_exporter": "python",
   "pygments_lexer": "ipython3",
   "version": "3.10.11"
  },
  "orig_nbformat": 4
 },
 "nbformat": 4,
 "nbformat_minor": 2
}
