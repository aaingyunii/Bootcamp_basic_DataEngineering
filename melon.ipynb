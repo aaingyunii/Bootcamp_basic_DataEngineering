{
 "cells": [
  {
   "cell_type": "code",
   "execution_count": 1,
   "metadata": {},
   "outputs": [],
   "source": [
    "import requests\n",
    "\n",
    "head  = {'User-Agent':\n",
    "'Mozilla/5.0 (Windows NT 10.0; Win64; x64) AppleWebKit/537.36 (KHTML, like Gecko) Chrome/115.0.0.0 Safari/537.36'}"
   ]
  },
  {
   "cell_type": "code",
   "execution_count": 2,
   "metadata": {},
   "outputs": [],
   "source": [
    "url = \"https://www.melon.com/chart/index.htm\""
   ]
  },
  {
   "cell_type": "code",
   "execution_count": 3,
   "metadata": {},
   "outputs": [],
   "source": [
    "r = requests.get(url)"
   ]
  },
  {
   "cell_type": "code",
   "execution_count": 4,
   "metadata": {},
   "outputs": [
    {
     "data": {
      "text/plain": [
       "406"
      ]
     },
     "execution_count": 4,
     "metadata": {},
     "output_type": "execute_result"
    }
   ],
   "source": [
    "r.status_code\n",
    "\n",
    "## 406(Not acceptable) : 요청은 정상이나 서버에서 받아들일 수 없는 요청 - 멜론에서 거부당함"
   ]
  },
  {
   "cell_type": "code",
   "execution_count": 5,
   "metadata": {},
   "outputs": [
    {
     "data": {
      "text/plain": [
       "200"
      ]
     },
     "execution_count": 5,
     "metadata": {},
     "output_type": "execute_result"
    }
   ],
   "source": [
    "r = requests.get(url, headers= head)\n",
    "\n",
    "r.status_code"
   ]
  },
  {
   "cell_type": "code",
   "execution_count": 44,
   "metadata": {},
   "outputs": [],
   "source": [
    "# r.text"
   ]
  },
  {
   "cell_type": "code",
   "execution_count": 7,
   "metadata": {},
   "outputs": [],
   "source": [
    "from bs4 import BeautifulSoup\n",
    "\n",
    "# BeautifulSoup -> html로 파싱하는 역할"
   ]
  },
  {
   "cell_type": "code",
   "execution_count": 45,
   "metadata": {},
   "outputs": [],
   "source": [
    "bs = BeautifulSoup(r.text)\n",
    "# bs, type(bs)"
   ]
  },
  {
   "cell_type": "code",
   "execution_count": 9,
   "metadata": {},
   "outputs": [
    {
     "data": {
      "text/plain": [
       "<span class=\"year\">2023.08.16</span>"
      ]
     },
     "execution_count": 9,
     "metadata": {},
     "output_type": "execute_result"
    }
   ],
   "source": [
    "bs.find(\"span\", class_='year')"
   ]
  },
  {
   "cell_type": "code",
   "execution_count": 20,
   "metadata": {},
   "outputs": [],
   "source": [
    "import pandas as pd\n",
    "import lxml"
   ]
  },
  {
   "cell_type": "code",
   "execution_count": 25,
   "metadata": {},
   "outputs": [
    {
     "data": {
      "text/html": [
       "<div>\n",
       "<style scoped>\n",
       "    .dataframe tbody tr th:only-of-type {\n",
       "        vertical-align: middle;\n",
       "    }\n",
       "\n",
       "    .dataframe tbody tr th {\n",
       "        vertical-align: top;\n",
       "    }\n",
       "\n",
       "    .dataframe thead th {\n",
       "        text-align: right;\n",
       "    }\n",
       "</style>\n",
       "<table border=\"1\" class=\"dataframe\">\n",
       "  <thead>\n",
       "    <tr style=\"text-align: right;\">\n",
       "      <th></th>\n",
       "      <th>순위</th>\n",
       "      <th>곡정보</th>\n",
       "      <th>앨범</th>\n",
       "    </tr>\n",
       "  </thead>\n",
       "  <tbody>\n",
       "    <tr>\n",
       "      <th>0</th>\n",
       "      <td>1위</td>\n",
       "      <td>Seven (feat. Latto) - Clean Ver.  정국</td>\n",
       "      <td>Seven (feat. Latto) - Clean Ver.</td>\n",
       "    </tr>\n",
       "    <tr>\n",
       "      <th>1</th>\n",
       "      <td>2위</td>\n",
       "      <td>Super Shy  NewJeans</td>\n",
       "      <td>NewJeans 2nd EP 'Get Up'</td>\n",
       "    </tr>\n",
       "    <tr>\n",
       "      <th>2</th>\n",
       "      <td>3위</td>\n",
       "      <td>ETA  NewJeans</td>\n",
       "      <td>NewJeans 2nd EP 'Get Up'</td>\n",
       "    </tr>\n",
       "    <tr>\n",
       "      <th>3</th>\n",
       "      <td>4위</td>\n",
       "      <td>퀸카 (Queencard)  (여자)아이들</td>\n",
       "      <td>I feel</td>\n",
       "    </tr>\n",
       "    <tr>\n",
       "      <th>4</th>\n",
       "      <td>5위</td>\n",
       "      <td>헤어지자 말해요  박재정</td>\n",
       "      <td>1집 Alone</td>\n",
       "    </tr>\n",
       "    <tr>\n",
       "      <th>...</th>\n",
       "      <td>...</td>\n",
       "      <td>...</td>\n",
       "      <td>...</td>\n",
       "    </tr>\n",
       "    <tr>\n",
       "      <th>95</th>\n",
       "      <td>96위</td>\n",
       "      <td>파랑 (Blue Wave)  NCT DREAM</td>\n",
       "      <td>ISTJ - The 3rd Album</td>\n",
       "    </tr>\n",
       "    <tr>\n",
       "      <th>96</th>\n",
       "      <td>97위</td>\n",
       "      <td>I WANT  IVE (아이브)</td>\n",
       "      <td>I WANT</td>\n",
       "    </tr>\n",
       "    <tr>\n",
       "      <th>97</th>\n",
       "      <td>98위</td>\n",
       "      <td>Get Up  NewJeans</td>\n",
       "      <td>NewJeans 2nd EP 'Get Up'</td>\n",
       "    </tr>\n",
       "    <tr>\n",
       "      <th>98</th>\n",
       "      <td>99위</td>\n",
       "      <td>Cream Soda  EXO</td>\n",
       "      <td>EXIST - The 7th Album</td>\n",
       "    </tr>\n",
       "    <tr>\n",
       "      <th>99</th>\n",
       "      <td>100위</td>\n",
       "      <td>Like We Just Met  NCT DREAM</td>\n",
       "      <td>ISTJ - The 3rd Album</td>\n",
       "    </tr>\n",
       "  </tbody>\n",
       "</table>\n",
       "<p>100 rows × 3 columns</p>\n",
       "</div>"
      ],
      "text/plain": [
       "      순위                                   곡정보  \\\n",
       "0     1위  Seven (feat. Latto) - Clean Ver.  정국   \n",
       "1     2위                   Super Shy  NewJeans   \n",
       "2     3위                         ETA  NewJeans   \n",
       "3     4위               퀸카 (Queencard)  (여자)아이들   \n",
       "4     5위                         헤어지자 말해요  박재정   \n",
       "..   ...                                   ...   \n",
       "95   96위             파랑 (Blue Wave)  NCT DREAM   \n",
       "96   97위                     I WANT  IVE (아이브)   \n",
       "97   98위                      Get Up  NewJeans   \n",
       "98   99위                       Cream Soda  EXO   \n",
       "99  100위           Like We Just Met  NCT DREAM   \n",
       "\n",
       "                                  앨범  \n",
       "0   Seven (feat. Latto) - Clean Ver.  \n",
       "1           NewJeans 2nd EP 'Get Up'  \n",
       "2           NewJeans 2nd EP 'Get Up'  \n",
       "3                             I feel  \n",
       "4                           1집 Alone  \n",
       "..                               ...  \n",
       "95              ISTJ - The 3rd Album  \n",
       "96                            I WANT  \n",
       "97          NewJeans 2nd EP 'Get Up'  \n",
       "98             EXIST - The 7th Album  \n",
       "99              ISTJ - The 3rd Album  \n",
       "\n",
       "[100 rows x 3 columns]"
      ]
     },
     "execution_count": 25,
     "metadata": {},
     "output_type": "execute_result"
    }
   ],
   "source": [
    "melon_df = pd.read_html(r.text)[0][['순위', '곡정보', '앨범']]\n",
    "melon_df"
   ]
  },
  {
   "cell_type": "code",
   "execution_count": 41,
   "metadata": {},
   "outputs": [
    {
     "data": {
      "text/plain": [
       "(datetime.date(2023, 8, 16), '2023-08-16')"
      ]
     },
     "execution_count": 41,
     "metadata": {},
     "output_type": "execute_result"
    }
   ],
   "source": [
    "from datetime import date, timedelta\n",
    "\n",
    "date.today(), str(date.today())"
   ]
  },
  {
   "cell_type": "code",
   "execution_count": 42,
   "metadata": {},
   "outputs": [
    {
     "name": "stdout",
     "output_type": "stream",
     "text": [
      "2023-11-24\n",
      "2024-03-03\n",
      "2024-06-11\n",
      "2024-09-19\n",
      "2024-12-28\n",
      "2025-04-07\n",
      "2025-07-16\n",
      "2025-10-24\n",
      "2026-02-01\n",
      "2026-05-12\n"
     ]
    }
   ],
   "source": [
    "for i in range(100,1001,100):\n",
    "    print(date.today() + timedelta(days=i));"
   ]
  },
  {
   "cell_type": "code",
   "execution_count": 43,
   "metadata": {},
   "outputs": [
    {
     "data": {
      "text/html": [
       "<div>\n",
       "<style scoped>\n",
       "    .dataframe tbody tr th:only-of-type {\n",
       "        vertical-align: middle;\n",
       "    }\n",
       "\n",
       "    .dataframe tbody tr th {\n",
       "        vertical-align: top;\n",
       "    }\n",
       "\n",
       "    .dataframe thead th {\n",
       "        text-align: right;\n",
       "    }\n",
       "</style>\n",
       "<table border=\"1\" class=\"dataframe\">\n",
       "  <thead>\n",
       "    <tr style=\"text-align: right;\">\n",
       "      <th></th>\n",
       "      <th>순위</th>\n",
       "      <th>곡정보</th>\n",
       "      <th>앨범</th>\n",
       "      <th>저장시간</th>\n",
       "    </tr>\n",
       "  </thead>\n",
       "  <tbody>\n",
       "    <tr>\n",
       "      <th>0</th>\n",
       "      <td>1위</td>\n",
       "      <td>Seven (feat. Latto) - Clean Ver.  정국</td>\n",
       "      <td>Seven (feat. Latto) - Clean Ver.</td>\n",
       "      <td>2023-08-16</td>\n",
       "    </tr>\n",
       "    <tr>\n",
       "      <th>1</th>\n",
       "      <td>2위</td>\n",
       "      <td>Super Shy  NewJeans</td>\n",
       "      <td>NewJeans 2nd EP 'Get Up'</td>\n",
       "      <td>2023-08-16</td>\n",
       "    </tr>\n",
       "    <tr>\n",
       "      <th>2</th>\n",
       "      <td>3위</td>\n",
       "      <td>ETA  NewJeans</td>\n",
       "      <td>NewJeans 2nd EP 'Get Up'</td>\n",
       "      <td>2023-08-16</td>\n",
       "    </tr>\n",
       "    <tr>\n",
       "      <th>3</th>\n",
       "      <td>4위</td>\n",
       "      <td>퀸카 (Queencard)  (여자)아이들</td>\n",
       "      <td>I feel</td>\n",
       "      <td>2023-08-16</td>\n",
       "    </tr>\n",
       "    <tr>\n",
       "      <th>4</th>\n",
       "      <td>5위</td>\n",
       "      <td>헤어지자 말해요  박재정</td>\n",
       "      <td>1집 Alone</td>\n",
       "      <td>2023-08-16</td>\n",
       "    </tr>\n",
       "    <tr>\n",
       "      <th>...</th>\n",
       "      <td>...</td>\n",
       "      <td>...</td>\n",
       "      <td>...</td>\n",
       "      <td>...</td>\n",
       "    </tr>\n",
       "    <tr>\n",
       "      <th>95</th>\n",
       "      <td>96위</td>\n",
       "      <td>파랑 (Blue Wave)  NCT DREAM</td>\n",
       "      <td>ISTJ - The 3rd Album</td>\n",
       "      <td>2023-08-16</td>\n",
       "    </tr>\n",
       "    <tr>\n",
       "      <th>96</th>\n",
       "      <td>97위</td>\n",
       "      <td>I WANT  IVE (아이브)</td>\n",
       "      <td>I WANT</td>\n",
       "      <td>2023-08-16</td>\n",
       "    </tr>\n",
       "    <tr>\n",
       "      <th>97</th>\n",
       "      <td>98위</td>\n",
       "      <td>Get Up  NewJeans</td>\n",
       "      <td>NewJeans 2nd EP 'Get Up'</td>\n",
       "      <td>2023-08-16</td>\n",
       "    </tr>\n",
       "    <tr>\n",
       "      <th>98</th>\n",
       "      <td>99위</td>\n",
       "      <td>Cream Soda  EXO</td>\n",
       "      <td>EXIST - The 7th Album</td>\n",
       "      <td>2023-08-16</td>\n",
       "    </tr>\n",
       "    <tr>\n",
       "      <th>99</th>\n",
       "      <td>100위</td>\n",
       "      <td>Like We Just Met  NCT DREAM</td>\n",
       "      <td>ISTJ - The 3rd Album</td>\n",
       "      <td>2023-08-16</td>\n",
       "    </tr>\n",
       "  </tbody>\n",
       "</table>\n",
       "<p>100 rows × 4 columns</p>\n",
       "</div>"
      ],
      "text/plain": [
       "      순위                                   곡정보  \\\n",
       "0     1위  Seven (feat. Latto) - Clean Ver.  정국   \n",
       "1     2위                   Super Shy  NewJeans   \n",
       "2     3위                         ETA  NewJeans   \n",
       "3     4위               퀸카 (Queencard)  (여자)아이들   \n",
       "4     5위                         헤어지자 말해요  박재정   \n",
       "..   ...                                   ...   \n",
       "95   96위             파랑 (Blue Wave)  NCT DREAM   \n",
       "96   97위                     I WANT  IVE (아이브)   \n",
       "97   98위                      Get Up  NewJeans   \n",
       "98   99위                       Cream Soda  EXO   \n",
       "99  100위           Like We Just Met  NCT DREAM   \n",
       "\n",
       "                                  앨범        저장시간  \n",
       "0   Seven (feat. Latto) - Clean Ver.  2023-08-16  \n",
       "1           NewJeans 2nd EP 'Get Up'  2023-08-16  \n",
       "2           NewJeans 2nd EP 'Get Up'  2023-08-16  \n",
       "3                             I feel  2023-08-16  \n",
       "4                           1집 Alone  2023-08-16  \n",
       "..                               ...         ...  \n",
       "95              ISTJ - The 3rd Album  2023-08-16  \n",
       "96                            I WANT  2023-08-16  \n",
       "97          NewJeans 2nd EP 'Get Up'  2023-08-16  \n",
       "98             EXIST - The 7th Album  2023-08-16  \n",
       "99              ISTJ - The 3rd Album  2023-08-16  \n",
       "\n",
       "[100 rows x 4 columns]"
      ]
     },
     "execution_count": 43,
     "metadata": {},
     "output_type": "execute_result"
    }
   ],
   "source": [
    "## 멜론 데이터에 현재 시간을 저장\n",
    "melon_df['저장시간'] = str(date.today())\n",
    "melon_df"
   ]
  },
  {
   "cell_type": "code",
   "execution_count": null,
   "metadata": {},
   "outputs": [],
   "source": []
  },
  {
   "cell_type": "code",
   "execution_count": null,
   "metadata": {},
   "outputs": [],
   "source": []
  },
  {
   "cell_type": "code",
   "execution_count": 32,
   "metadata": {},
   "outputs": [],
   "source": [
    "import sqlalchemy"
   ]
  },
  {
   "cell_type": "code",
   "execution_count": 38,
   "metadata": {},
   "outputs": [],
   "source": [
    "# DB 설정\n",
    "user = 'root'\n",
    "password = '8489'\n",
    "host = '127.0.0.1' # loopback IP or Localhost \n",
    "port = '3306'\n",
    "database = 'encore' # 이미 존재하고 있는 encore 데이터베이스 사용.\n",
    "\n",
    "engine = sqlalchemy.create_engine(f\"mysql://{user}:{password}@{host}:{port}/{database}\")"
   ]
  },
  {
   "cell_type": "code",
   "execution_count": 39,
   "metadata": {},
   "outputs": [
    {
     "data": {
      "text/plain": [
       "100"
      ]
     },
     "execution_count": 39,
     "metadata": {},
     "output_type": "execute_result"
    }
   ],
   "source": [
    "## mysql에 연결되고 melon 테이블이 생성되고 데이터가 저장됨\n",
    "melon_df.to_sql(con=engine, name=\"melon\", if_exists=\"append\")\n",
    "\n",
    "## append 를 통해 바뀐 탑 100 의 멜론 차트 노래를 각 날짜에 따라서 저장 가능"
   ]
  },
  {
   "cell_type": "code",
   "execution_count": null,
   "metadata": {},
   "outputs": [],
   "source": []
  },
  {
   "cell_type": "code",
   "execution_count": null,
   "metadata": {},
   "outputs": [],
   "source": []
  },
  {
   "cell_type": "code",
   "execution_count": null,
   "metadata": {},
   "outputs": [],
   "source": []
  },
  {
   "cell_type": "code",
   "execution_count": null,
   "metadata": {},
   "outputs": [],
   "source": []
  },
  {
   "cell_type": "code",
   "execution_count": null,
   "metadata": {},
   "outputs": [],
   "source": []
  }
 ],
 "metadata": {
  "kernelspec": {
   "display_name": "venv",
   "language": "python",
   "name": "python3"
  },
  "language_info": {
   "codemirror_mode": {
    "name": "ipython",
    "version": 3
   },
   "file_extension": ".py",
   "mimetype": "text/x-python",
   "name": "python",
   "nbconvert_exporter": "python",
   "pygments_lexer": "ipython3",
   "version": "3.10.9"
  },
  "orig_nbformat": 4
 },
 "nbformat": 4,
 "nbformat_minor": 2
}
