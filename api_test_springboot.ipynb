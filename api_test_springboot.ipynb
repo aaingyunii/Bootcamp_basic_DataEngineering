{
 "cells": [
  {
   "cell_type": "code",
   "execution_count": 1,
   "metadata": {},
   "outputs": [],
   "source": [
    "import requests"
   ]
  },
  {
   "cell_type": "markdown",
   "metadata": {},
   "source": [
    "### `hello` 프로젝트 파일에서 구현한 `Article` 게시판 사이트 `API` 를 테스트함."
   ]
  },
  {
   "cell_type": "code",
   "execution_count": 4,
   "metadata": {},
   "outputs": [],
   "source": [
    "url = \"http://localhost/api/articles\""
   ]
  },
  {
   "cell_type": "code",
   "execution_count": 7,
   "metadata": {},
   "outputs": [
    {
     "data": {
      "text/plain": [
       "200"
      ]
     },
     "execution_count": 7,
     "metadata": {},
     "output_type": "execute_result"
    }
   ],
   "source": [
    "r = requests.get(url)\n",
    "r.status_code"
   ]
  },
  {
   "cell_type": "code",
   "execution_count": 6,
   "metadata": {},
   "outputs": [
    {
     "data": {
      "text/plain": [
       "'[{\"id\":3,\"title\":\"데이터데이터\",\"content\":\"new DataDataa\"},{\"id\":4,\"title\":\"2023년 8월 22일 화요일\",\"content\":\"현재 맑음. 비 오다가 맑음. 비 온다 하고 안옴.\"},{\"id\":5,\"title\":\"return \\\\\"redirect:/articles/\\\\\" + saved.getId()\",\"content\":\"이게맞지\"},{\"id\":9,\"title\":\"서버포트고정\",\"content\":\"server.port = 80\"},{\"id\":10,\"title\":\"삭제후Id값을 보자\",\"content\":\"삭제후 ididididid\"}]'"
      ]
     },
     "execution_count": 6,
     "metadata": {},
     "output_type": "execute_result"
    }
   ],
   "source": [
    "r.text"
   ]
  },
  {
   "cell_type": "code",
   "execution_count": 8,
   "metadata": {},
   "outputs": [
    {
     "data": {
      "text/plain": [
       "[{'id': 3, 'title': '데이터데이터', 'content': 'new DataDataa'},\n",
       " {'id': 4,\n",
       "  'title': '2023년 8월 22일 화요일',\n",
       "  'content': '현재 맑음. 비 오다가 맑음. 비 온다 하고 안옴.'},\n",
       " {'id': 5,\n",
       "  'title': 'return \"redirect:/articles/\" + saved.getId()',\n",
       "  'content': '이게맞지'},\n",
       " {'id': 9, 'title': '서버포트고정', 'content': 'server.port = 80'},\n",
       " {'id': 10, 'title': '삭제후Id값을 보자', 'content': '삭제후 ididididid'}]"
      ]
     },
     "execution_count": 8,
     "metadata": {},
     "output_type": "execute_result"
    }
   ],
   "source": [
    "r.json()"
   ]
  },
  {
   "cell_type": "code",
   "execution_count": 9,
   "metadata": {},
   "outputs": [
    {
     "data": {
      "text/html": [
       "<div>\n",
       "<style scoped>\n",
       "    .dataframe tbody tr th:only-of-type {\n",
       "        vertical-align: middle;\n",
       "    }\n",
       "\n",
       "    .dataframe tbody tr th {\n",
       "        vertical-align: top;\n",
       "    }\n",
       "\n",
       "    .dataframe thead th {\n",
       "        text-align: right;\n",
       "    }\n",
       "</style>\n",
       "<table border=\"1\" class=\"dataframe\">\n",
       "  <thead>\n",
       "    <tr style=\"text-align: right;\">\n",
       "      <th></th>\n",
       "      <th>id</th>\n",
       "      <th>title</th>\n",
       "      <th>content</th>\n",
       "    </tr>\n",
       "  </thead>\n",
       "  <tbody>\n",
       "    <tr>\n",
       "      <th>0</th>\n",
       "      <td>3</td>\n",
       "      <td>데이터데이터</td>\n",
       "      <td>new DataDataa</td>\n",
       "    </tr>\n",
       "    <tr>\n",
       "      <th>1</th>\n",
       "      <td>4</td>\n",
       "      <td>2023년 8월 22일 화요일</td>\n",
       "      <td>현재 맑음. 비 오다가 맑음. 비 온다 하고 안옴.</td>\n",
       "    </tr>\n",
       "    <tr>\n",
       "      <th>2</th>\n",
       "      <td>5</td>\n",
       "      <td>return \"redirect:/articles/\" + saved.getId()</td>\n",
       "      <td>이게맞지</td>\n",
       "    </tr>\n",
       "    <tr>\n",
       "      <th>3</th>\n",
       "      <td>9</td>\n",
       "      <td>서버포트고정</td>\n",
       "      <td>server.port = 80</td>\n",
       "    </tr>\n",
       "    <tr>\n",
       "      <th>4</th>\n",
       "      <td>10</td>\n",
       "      <td>삭제후Id값을 보자</td>\n",
       "      <td>삭제후 ididididid</td>\n",
       "    </tr>\n",
       "  </tbody>\n",
       "</table>\n",
       "</div>"
      ],
      "text/plain": [
       "   id                                         title  \\\n",
       "0   3                                        데이터데이터   \n",
       "1   4                              2023년 8월 22일 화요일   \n",
       "2   5  return \"redirect:/articles/\" + saved.getId()   \n",
       "3   9                                        서버포트고정   \n",
       "4  10                                    삭제후Id값을 보자   \n",
       "\n",
       "                        content  \n",
       "0                 new DataDataa  \n",
       "1  현재 맑음. 비 오다가 맑음. 비 온다 하고 안옴.  \n",
       "2                          이게맞지  \n",
       "3              server.port = 80  \n",
       "4                삭제후 ididididid  "
      ]
     },
     "execution_count": 9,
     "metadata": {},
     "output_type": "execute_result"
    }
   ],
   "source": [
    "import pandas as pd\n",
    "\n",
    "pd.DataFrame(r.json())"
   ]
  },
  {
   "cell_type": "code",
   "execution_count": null,
   "metadata": {},
   "outputs": [],
   "source": []
  },
  {
   "cell_type": "code",
   "execution_count": null,
   "metadata": {},
   "outputs": [],
   "source": [
    "import requests"
   ]
  },
  {
   "cell_type": "code",
   "execution_count": 9,
   "metadata": {},
   "outputs": [],
   "source": [
    "url = \"http://fas/api/articles/\""
   ]
  },
  {
   "cell_type": "code",
   "execution_count": 10,
   "metadata": {},
   "outputs": [],
   "source": [
    "payload = {\n",
    "    \"title\" : \"도배!!!!!\",\n",
    "    \"content\" : \"안녕하세요\",\n",
    "}"
   ]
  },
  {
   "cell_type": "code",
   "execution_count": null,
   "metadata": {},
   "outputs": [],
   "source": []
  },
  {
   "cell_type": "code",
   "execution_count": null,
   "metadata": {},
   "outputs": [],
   "source": []
  },
  {
   "cell_type": "code",
   "execution_count": null,
   "metadata": {},
   "outputs": [],
   "source": []
  },
  {
   "cell_type": "code",
   "execution_count": null,
   "metadata": {},
   "outputs": [],
   "source": []
  },
  {
   "cell_type": "code",
   "execution_count": null,
   "metadata": {},
   "outputs": [],
   "source": []
  },
  {
   "cell_type": "code",
   "execution_count": null,
   "metadata": {},
   "outputs": [],
   "source": []
  }
 ],
 "metadata": {
  "kernelspec": {
   "display_name": "venv",
   "language": "python",
   "name": "python3"
  },
  "language_info": {
   "codemirror_mode": {
    "name": "ipython",
    "version": 3
   },
   "file_extension": ".py",
   "mimetype": "text/x-python",
   "name": "python",
   "nbconvert_exporter": "python",
   "pygments_lexer": "ipython3",
   "version": "3.10.9"
  },
  "orig_nbformat": 4
 },
 "nbformat": 4,
 "nbformat_minor": 2
}
