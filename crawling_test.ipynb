{
 "cells": [
  {
   "cell_type": "code",
   "execution_count": 13,
   "metadata": {},
   "outputs": [],
   "source": [
    "# pip install selenium"
   ]
  },
  {
   "cell_type": "code",
   "execution_count": 1,
   "metadata": {},
   "outputs": [],
   "source": [
    "from selenium import webdriver\n",
    "import selenium"
   ]
  },
  {
   "cell_type": "code",
   "execution_count": 2,
   "metadata": {},
   "outputs": [],
   "source": [
    "driver = webdriver.Chrome()"
   ]
  },
  {
   "cell_type": "code",
   "execution_count": 3,
   "metadata": {},
   "outputs": [],
   "source": [
    "driver.get(\"https://comic.naver.com/webtoon\")"
   ]
  },
  {
   "cell_type": "code",
   "execution_count": 4,
   "metadata": {},
   "outputs": [],
   "source": [
    "from selenium.webdriver.common.by import By\n",
    "driver.find_element(By.CSS_SELECTOR,\n",
    "                    \"#container > div.component_wrap.type2 > div.WeekdayMainView__daily_all_wrap--UvRFc > div:nth-child(1) > ul > li:nth-child(1) > div > a > span\").click()"
   ]
  },
  {
   "cell_type": "code",
   "execution_count": 22,
   "metadata": {},
   "outputs": [],
   "source": [
    "driver.find_element(By.CSS_SELECTOR,\n",
    ").click()"
   ]
  },
  {
   "cell_type": "code",
   "execution_count": null,
   "metadata": {},
   "outputs": [],
   "source": []
  },
  {
   "cell_type": "code",
   "execution_count": null,
   "metadata": {},
   "outputs": [],
   "source": []
  },
  {
   "cell_type": "code",
   "execution_count": 71,
   "metadata": {},
   "outputs": [],
   "source": [
    "import requests\n",
    "r = requests.get(\"https://comic.naver.com/api/webtoon/titlelist/weekday?order=user\")"
   ]
  },
  {
   "cell_type": "code",
   "execution_count": 77,
   "metadata": {},
   "outputs": [
    {
     "data": {
      "text/plain": [
       "{'titleId': 783053,\n",
       " 'titleName': '김부장',\n",
       " 'author': '박태준 만화회사 / 정종택',\n",
       " 'thumbnailUrl': 'https://image-comic.pstatic.net/webtoon/783053/thumbnail/thumbnail_IMAG21_d7732f14-26da-4e35-8762-660cc87b53f1.jpg',\n",
       " 'up': False,\n",
       " 'rest': False,\n",
       " 'bm': False,\n",
       " 'adult': False,\n",
       " 'starScore': 9.47529,\n",
       " 'viewCount': 0,\n",
       " 'openToday': False,\n",
       " 'potenUp': False,\n",
       " 'bestChallengeLevelUp': False,\n",
       " 'finish': False,\n",
       " 'new': False}"
      ]
     },
     "execution_count": 77,
     "metadata": {},
     "output_type": "execute_result"
    }
   ],
   "source": [
    "r.json()['titleListMap']['TUESDAY'][0]"
   ]
  },
  {
   "cell_type": "code",
   "execution_count": 80,
   "metadata": {},
   "outputs": [],
   "source": [
    "# r.text\n",
    "### 화요일\n",
    "a = []\n",
    "for i in range(r.json()['titleListMap']['TUESDAY'].__len__()):\n",
    "    a.append(r.json()['titleListMap']['TUESDAY'][i]['titleId'])"
   ]
  },
  {
   "cell_type": "code",
   "execution_count": 81,
   "metadata": {},
   "outputs": [
    {
     "data": {
      "text/plain": [
       "[783053,\n",
       " 784248,\n",
       " 796152,\n",
       " 790713,\n",
       " 789979,\n",
       " 730656,\n",
       " 743139,\n",
       " 773459,\n",
       " 804783,\n",
       " 738487,\n",
       " 774358,\n",
       " 721433,\n",
       " 812414,\n",
       " 783877,\n",
       " 801711,\n",
       " 711422,\n",
       " 812161,\n",
       " 802389,\n",
       " 766648,\n",
       " 813454,\n",
       " 795658,\n",
       " 804653,\n",
       " 757904,\n",
       " 801589,\n",
       " 698918,\n",
       " 802840,\n",
       " 814356,\n",
       " 732988,\n",
       " 812594,\n",
       " 702608,\n",
       " 809618,\n",
       " 798326,\n",
       " 616239,\n",
       " 809261,\n",
       " 805743,\n",
       " 797582,\n",
       " 800726,\n",
       " 723046,\n",
       " 765156,\n",
       " 753839,\n",
       " 813922,\n",
       " 789682,\n",
       " 813121,\n",
       " 400739,\n",
       " 805334,\n",
       " 752532,\n",
       " 808388,\n",
       " 654138,\n",
       " 800506,\n",
       " 814298,\n",
       " 804333,\n",
       " 812017,\n",
       " 798101,\n",
       " 785703,\n",
       " 808454,\n",
       " 803010,\n",
       " 676695,\n",
       " 809579,\n",
       " 812576,\n",
       " 791126,\n",
       " 814398,\n",
       " 808804,\n",
       " 794105,\n",
       " 767908,\n",
       " 807582,\n",
       " 797819,\n",
       " 812121,\n",
       " 797413,\n",
       " 804868,\n",
       " 773793,\n",
       " 797259,\n",
       " 790776,\n",
       " 812731,\n",
       " 801820,\n",
       " 807314,\n",
       " 809263,\n",
       " 807858,\n",
       " 805671,\n",
       " 805974,\n",
       " 809006,\n",
       " 797943,\n",
       " 810561,\n",
       " 802872,\n",
       " 799250,\n",
       " 797258,\n",
       " 800400]"
      ]
     },
     "execution_count": 81,
     "metadata": {},
     "output_type": "execute_result"
    }
   ],
   "source": [
    "a"
   ]
  },
  {
   "cell_type": "code",
   "execution_count": 40,
   "metadata": {},
   "outputs": [],
   "source": [
    "import requests\n",
    "\n",
    "url = \"\"\n",
    "\n",
    "head  = {'User-Agent':\n",
    "'Mozilla/5.0 (Windows NT 10.0; Win64; x64) AppleWebKit/537.36 (KHTML, like Gecko) Chrome/115.0.0.0 Safari/537.36'}"
   ]
  },
  {
   "cell_type": "code",
   "execution_count": null,
   "metadata": {},
   "outputs": [],
   "source": []
  },
  {
   "cell_type": "code",
   "execution_count": null,
   "metadata": {},
   "outputs": [],
   "source": []
  }
 ],
 "metadata": {
  "kernelspec": {
   "display_name": "venv",
   "language": "python",
   "name": "python3"
  },
  "language_info": {
   "codemirror_mode": {
    "name": "ipython",
    "version": 3
   },
   "file_extension": ".py",
   "mimetype": "text/x-python",
   "name": "python",
   "nbconvert_exporter": "python",
   "pygments_lexer": "ipython3",
   "version": "3.10.9"
  },
  "orig_nbformat": 4
 },
 "nbformat": 4,
 "nbformat_minor": 2
}
