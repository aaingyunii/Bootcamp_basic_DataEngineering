{
 "cells": [
  {
   "cell_type": "code",
   "execution_count": 2,
   "metadata": {},
   "outputs": [],
   "source": [
    "import  requests"
   ]
  },
  {
   "cell_type": "code",
   "execution_count": 19,
   "metadata": {},
   "outputs": [],
   "source": [
    "url = \"http://fas/api/v1/get-api/request3?name=encore&email=encore@encore.com&organization=public\""
   ]
  },
  {
   "cell_type": "code",
   "execution_count": 20,
   "metadata": {},
   "outputs": [],
   "source": [
    "r = requests.get(url)"
   ]
  },
  {
   "cell_type": "code",
   "execution_count": 21,
   "metadata": {},
   "outputs": [
    {
     "data": {
      "text/plain": [
       "200"
      ]
     },
     "execution_count": 21,
     "metadata": {},
     "output_type": "execute_result"
    }
   ],
   "source": [
    "r.status_code"
   ]
  },
  {
   "cell_type": "code",
   "execution_count": 22,
   "metadata": {},
   "outputs": [
    {
     "data": {
      "text/plain": [
       "\"{'name' :'encore', 'email' :'encore@encore.com', 'organization' :'public'}\""
      ]
     },
     "execution_count": 22,
     "metadata": {},
     "output_type": "execute_result"
    }
   ],
   "source": [
    "r.text"
   ]
  },
  {
   "cell_type": "code",
   "execution_count": 24,
   "metadata": {},
   "outputs": [
    {
     "ename": "JSONDecodeError",
     "evalue": "Expecting property name enclosed in double quotes: line 1 column 2 (char 1)",
     "output_type": "error",
     "traceback": [
      "\u001b[1;31m---------------------------------------------------------------------------\u001b[0m",
      "\u001b[1;31mJSONDecodeError\u001b[0m                           Traceback (most recent call last)",
      "File \u001b[1;32mc:\\workspace\\venv\\lib\\site-packages\\requests\\models.py:971\u001b[0m, in \u001b[0;36mResponse.json\u001b[1;34m(self, **kwargs)\u001b[0m\n\u001b[0;32m    970\u001b[0m \u001b[39mtry\u001b[39;00m:\n\u001b[1;32m--> 971\u001b[0m     \u001b[39mreturn\u001b[39;00m complexjson\u001b[39m.\u001b[39mloads(\u001b[39mself\u001b[39m\u001b[39m.\u001b[39mtext, \u001b[39m*\u001b[39m\u001b[39m*\u001b[39mkwargs)\n\u001b[0;32m    972\u001b[0m \u001b[39mexcept\u001b[39;00m JSONDecodeError \u001b[39mas\u001b[39;00m e:\n\u001b[0;32m    973\u001b[0m     \u001b[39m# Catch JSON-related errors and raise as requests.JSONDecodeError\u001b[39;00m\n\u001b[0;32m    974\u001b[0m     \u001b[39m# This aliases json.JSONDecodeError and simplejson.JSONDecodeError\u001b[39;00m\n",
      "File \u001b[1;32m~\\anaconda3\\lib\\json\\__init__.py:346\u001b[0m, in \u001b[0;36mloads\u001b[1;34m(s, cls, object_hook, parse_float, parse_int, parse_constant, object_pairs_hook, **kw)\u001b[0m\n\u001b[0;32m    343\u001b[0m \u001b[39mif\u001b[39;00m (\u001b[39mcls\u001b[39m \u001b[39mis\u001b[39;00m \u001b[39mNone\u001b[39;00m \u001b[39mand\u001b[39;00m object_hook \u001b[39mis\u001b[39;00m \u001b[39mNone\u001b[39;00m \u001b[39mand\u001b[39;00m\n\u001b[0;32m    344\u001b[0m         parse_int \u001b[39mis\u001b[39;00m \u001b[39mNone\u001b[39;00m \u001b[39mand\u001b[39;00m parse_float \u001b[39mis\u001b[39;00m \u001b[39mNone\u001b[39;00m \u001b[39mand\u001b[39;00m\n\u001b[0;32m    345\u001b[0m         parse_constant \u001b[39mis\u001b[39;00m \u001b[39mNone\u001b[39;00m \u001b[39mand\u001b[39;00m object_pairs_hook \u001b[39mis\u001b[39;00m \u001b[39mNone\u001b[39;00m \u001b[39mand\u001b[39;00m \u001b[39mnot\u001b[39;00m kw):\n\u001b[1;32m--> 346\u001b[0m     \u001b[39mreturn\u001b[39;00m _default_decoder\u001b[39m.\u001b[39;49mdecode(s)\n\u001b[0;32m    347\u001b[0m \u001b[39mif\u001b[39;00m \u001b[39mcls\u001b[39m \u001b[39mis\u001b[39;00m \u001b[39mNone\u001b[39;00m:\n",
      "File \u001b[1;32m~\\anaconda3\\lib\\json\\decoder.py:337\u001b[0m, in \u001b[0;36mJSONDecoder.decode\u001b[1;34m(self, s, _w)\u001b[0m\n\u001b[0;32m    333\u001b[0m \u001b[39m\u001b[39m\u001b[39m\"\"\"Return the Python representation of ``s`` (a ``str`` instance\u001b[39;00m\n\u001b[0;32m    334\u001b[0m \u001b[39mcontaining a JSON document).\u001b[39;00m\n\u001b[0;32m    335\u001b[0m \n\u001b[0;32m    336\u001b[0m \u001b[39m\"\"\"\u001b[39;00m\n\u001b[1;32m--> 337\u001b[0m obj, end \u001b[39m=\u001b[39m \u001b[39mself\u001b[39;49m\u001b[39m.\u001b[39;49mraw_decode(s, idx\u001b[39m=\u001b[39;49m_w(s, \u001b[39m0\u001b[39;49m)\u001b[39m.\u001b[39;49mend())\n\u001b[0;32m    338\u001b[0m end \u001b[39m=\u001b[39m _w(s, end)\u001b[39m.\u001b[39mend()\n",
      "File \u001b[1;32m~\\anaconda3\\lib\\json\\decoder.py:353\u001b[0m, in \u001b[0;36mJSONDecoder.raw_decode\u001b[1;34m(self, s, idx)\u001b[0m\n\u001b[0;32m    352\u001b[0m \u001b[39mtry\u001b[39;00m:\n\u001b[1;32m--> 353\u001b[0m     obj, end \u001b[39m=\u001b[39m \u001b[39mself\u001b[39;49m\u001b[39m.\u001b[39;49mscan_once(s, idx)\n\u001b[0;32m    354\u001b[0m \u001b[39mexcept\u001b[39;00m \u001b[39mStopIteration\u001b[39;00m \u001b[39mas\u001b[39;00m err:\n",
      "\u001b[1;31mJSONDecodeError\u001b[0m: Expecting property name enclosed in double quotes: line 1 column 2 (char 1)",
      "\nDuring handling of the above exception, another exception occurred:\n",
      "\u001b[1;31mJSONDecodeError\u001b[0m                           Traceback (most recent call last)",
      "Cell \u001b[1;32mIn[24], line 1\u001b[0m\n\u001b[1;32m----> 1\u001b[0m r\u001b[39m.\u001b[39;49mjson()\n",
      "File \u001b[1;32mc:\\workspace\\venv\\lib\\site-packages\\requests\\models.py:975\u001b[0m, in \u001b[0;36mResponse.json\u001b[1;34m(self, **kwargs)\u001b[0m\n\u001b[0;32m    971\u001b[0m     \u001b[39mreturn\u001b[39;00m complexjson\u001b[39m.\u001b[39mloads(\u001b[39mself\u001b[39m\u001b[39m.\u001b[39mtext, \u001b[39m*\u001b[39m\u001b[39m*\u001b[39mkwargs)\n\u001b[0;32m    972\u001b[0m \u001b[39mexcept\u001b[39;00m JSONDecodeError \u001b[39mas\u001b[39;00m e:\n\u001b[0;32m    973\u001b[0m     \u001b[39m# Catch JSON-related errors and raise as requests.JSONDecodeError\u001b[39;00m\n\u001b[0;32m    974\u001b[0m     \u001b[39m# This aliases json.JSONDecodeError and simplejson.JSONDecodeError\u001b[39;00m\n\u001b[1;32m--> 975\u001b[0m     \u001b[39mraise\u001b[39;00m RequestsJSONDecodeError(e\u001b[39m.\u001b[39mmsg, e\u001b[39m.\u001b[39mdoc, e\u001b[39m.\u001b[39mpos)\n",
      "\u001b[1;31mJSONDecodeError\u001b[0m: Expecting property name enclosed in double quotes: line 1 column 2 (char 1)"
     ]
    }
   ],
   "source": [
    "r.json()"
   ]
  },
  {
   "cell_type": "code",
   "execution_count": 29,
   "metadata": {},
   "outputs": [
    {
     "data": {
      "text/plain": [
       "ParseResult(scheme='http', netloc='fas', path='/api/v1/get-api/request3', params='', query='name=encore&email=encore@encore.com&organization=public', fragment='')"
      ]
     },
     "execution_count": 29,
     "metadata": {},
     "output_type": "execute_result"
    }
   ],
   "source": [
    "from urllib import parse\n",
    "\n",
    "data = parse.urlparse(url)\n",
    "data"
   ]
  },
  {
   "cell_type": "code",
   "execution_count": 28,
   "metadata": {},
   "outputs": [
    {
     "data": {
      "text/plain": [
       "'name=encore&email=encore@encore.com&organization=public'"
      ]
     },
     "execution_count": 28,
     "metadata": {},
     "output_type": "execute_result"
    }
   ],
   "source": [
    "data.query"
   ]
  },
  {
   "cell_type": "code",
   "execution_count": 33,
   "metadata": {},
   "outputs": [
    {
     "data": {
      "text/plain": [
       "{'name': ['encore'],\n",
       " 'email': ['encore@encore.com'],\n",
       " 'organization': ['public']}"
      ]
     },
     "execution_count": 33,
     "metadata": {},
     "output_type": "execute_result"
    }
   ],
   "source": [
    "query_data = parse.parse_qs(data.query)\n",
    "query_data"
   ]
  },
  {
   "cell_type": "code",
   "execution_count": 35,
   "metadata": {},
   "outputs": [
    {
     "data": {
      "text/plain": [
       "{'name': 'bts', 'email': ['encore@encore.com'], 'organization': ['public']}"
      ]
     },
     "execution_count": 35,
     "metadata": {},
     "output_type": "execute_result"
    }
   ],
   "source": [
    "query_data['name'] = 'bts'\n",
    "query_data"
   ]
  },
  {
   "cell_type": "code",
   "execution_count": 40,
   "metadata": {},
   "outputs": [
    {
     "data": {
      "text/plain": [
       "'name=bts&email=encore%40encore.com&organization=public'"
      ]
     },
     "execution_count": 40,
     "metadata": {},
     "output_type": "execute_result"
    }
   ],
   "source": [
    "parse.urlencode(query_data, doseq=True) # doseq -> 딕셔너리 값의 리스트 형태를 유지할지를 묻는 것\n",
    "                                        # True : 리스트 형태 X, 무시 / False : 리스트 형태 유지"
   ]
  },
  {
   "cell_type": "code",
   "execution_count": null,
   "metadata": {},
   "outputs": [],
   "source": []
  },
  {
   "cell_type": "code",
   "execution_count": 49,
   "metadata": {},
   "outputs": [
    {
     "data": {
      "text/plain": [
       "<Response [200]>"
      ]
     },
     "execution_count": 49,
     "metadata": {},
     "output_type": "execute_result"
    }
   ],
   "source": [
    "# POST 방식\n",
    "post_url = \"http://fas/api/v1/post-api/domain\"\n",
    "\n",
    "requests.post(post_url)"
   ]
  },
  {
   "cell_type": "code",
   "execution_count": null,
   "metadata": {},
   "outputs": [],
   "source": []
  },
  {
   "cell_type": "code",
   "execution_count": null,
   "metadata": {},
   "outputs": [],
   "source": []
  },
  {
   "cell_type": "code",
   "execution_count": 53,
   "metadata": {},
   "outputs": [],
   "source": [
    "# 공공 데이터 포털에서 REST API로 제공된 대기오염 관련 XML 형식으로 받은 데이터 활용\n",
    "## https://www.data.go.kr/tcs/dss/selectApiDataDetailView.do?publicDataPk=15073861\n",
    "### 위 링크에서 가져온 데이터.\n",
    "import requests\n",
    "\n",
    "url = \"http://apis.data.go.kr/B552584/ArpltnInforInqireSvc/getMsrstnAcctoRltmMesureDnsty?serviceKey=34lIyWAciAsJlGtIZ4ltpLy2sLZDR%2BBRWvAv8RgoADNEd%2BKCgHe84XiSRUwL8JMMIubzsFW3ddjcNlhZHhvJIQ%3D%3D&returnType=xml&numOfRows=10000&pageNo=1&stationName=%EC%A2%85%EB%A1%9C%EA%B5%AC&dataTerm=3MONTH&ver=1.0\"\n",
    "# 종로구의 대기 오염 상태\n",
    "\n",
    "r3 = requests.get(url)\n"
   ]
  },
  {
   "cell_type": "code",
   "execution_count": 58,
   "metadata": {},
   "outputs": [
    {
     "data": {
      "text/plain": [
       "'m10Flag/>\\n        <pm10Value>24</pm10Value>\\n        <o3Grade>2</o3Grade>\\n        <khaiGrade>2</khaiGrade>\\n        <pm25Value>16</pm25Value>\\n        <no2Flag/>\\n        <no2Grade>1</no2Grade>\\n        <o3Flag/>\\n        <pm25Grade>1</pm25Grade>\\n        <so2Flag/>\\n        <dataTime>2023-08-17 13:00</dataTime>\\n        <coGrade>1</coGrade>\\n        <no2Value>0.013</no2Value>\\n        <pm10Grade>1</pm10Grade>\\n        <o3Value>0.076</o3Value>\\n      </item>\\n      <item>\\n        <so2Grade>1</so2Grade>\\n        <coFlag/>\\n        <khaiValue>79</khaiValue>\\n        <so2Value>0.003</so2Value>\\n        <coValue>0.5</coValue>\\n        <pm25Flag/>\\n        <pm10Flag/>\\n        <pm10Value>23</pm10Value>\\n        <o3Grade>2</o3Grade>\\n        <khaiGrade>2</khaiGrade>\\n        <pm25Value>14</pm25Value>\\n        <no2Flag/>\\n        <no2Grade>1</no2Grade>\\n        <o3Flag/>\\n        <pm25Grade>1</pm25Grade>\\n        <so2Flag/>\\n        <dataTime>2023-08-17 12:00</dataTime>\\n        <coGrade>1</coGrade>\\n        <no2Value>0.016'"
      ]
     },
     "execution_count": 58,
     "metadata": {},
     "output_type": "execute_result"
    }
   ],
   "source": [
    "r3.text[1000:2000]"
   ]
  },
  {
   "cell_type": "code",
   "execution_count": 59,
   "metadata": {},
   "outputs": [],
   "source": [
    "## 위와 같은 결과값 / 선언하는 방식만 다를뿐\n",
    "import requests\n",
    "\n",
    "url = 'http://apis.data.go.kr/B552584/ArpltnInforInqireSvc/getMsrstnAcctoRltmMesureDnsty'\n",
    "params ={'serviceKey' : '34lIyWAciAsJlGtIZ4ltpLy2sLZDR+BRWvAv8RgoADNEd+KCgHe84XiSRUwL8JMMIubzsFW3ddjcNlhZHhvJIQ==', 'returnType' : 'xml', 'numOfRows' : '10000', 'pageNo' : '1', 'stationName' : '종로구', 'dataTerm' : '3MONTH' }\n",
    "\n",
    "response = requests.get(url, params=params)"
   ]
  },
  {
   "cell_type": "code",
   "execution_count": 70,
   "metadata": {},
   "outputs": [
    {
     "data": {
      "text/plain": [
       "<Element 'response' at 0x000001F41A6C2020>"
      ]
     },
     "execution_count": 70,
     "metadata": {},
     "output_type": "execute_result"
    }
   ],
   "source": [
    "import xml.etree.ElementTree as ET\n",
    "root = ET.fromstring(r3.text)\n",
    "root"
   ]
  },
  {
   "cell_type": "code",
   "execution_count": 71,
   "metadata": {},
   "outputs": [
    {
     "name": "stdout",
     "output_type": "stream",
     "text": [
      "Collecting tqdm\n",
      "  Obtaining dependency information for tqdm from https://files.pythonhosted.org/packages/00/e5/f12a80907d0884e6dff9c16d0c0114d81b8cd07dc3ae54c5e962cc83037e/tqdm-4.66.1-py3-none-any.whl.metadata\n",
      "  Downloading tqdm-4.66.1-py3-none-any.whl.metadata (57 kB)\n",
      "     ---------------------------------------- 0.0/57.6 kB ? eta -:--:--\n",
      "     ---------------------------------------- 57.6/57.6 kB 3.2 MB/s eta 0:00:00\n",
      "Requirement already satisfied: colorama in c:\\workspace\\venv\\lib\\site-packages (from tqdm) (0.4.6)\n",
      "Downloading tqdm-4.66.1-py3-none-any.whl (78 kB)\n",
      "   ---------------------------------------- 0.0/78.3 kB ? eta -:--:--\n",
      "   ---------------------------------------- 78.3/78.3 kB 4.3 MB/s eta 0:00:00\n",
      "Installing collected packages: tqdm\n",
      "Successfully installed tqdm-4.66.1\n",
      "Note: you may need to restart the kernel to use updated packages.\n"
     ]
    }
   ],
   "source": [
    "# pip install tqdm"
   ]
  },
  {
   "cell_type": "code",
   "execution_count": 73,
   "metadata": {},
   "outputs": [],
   "source": [
    "import tqdm # 긴 반복문 같은 오랜 기달림이 필요한 작업에서 진행 시간이 나오게 하는 패키지.\n",
    "import pandas as pd"
   ]
  },
  {
   "cell_type": "code",
   "execution_count": 74,
   "metadata": {},
   "outputs": [
    {
     "name": "stderr",
     "output_type": "stream",
     "text": [
      "0it [00:00, ?it/s]"
     ]
    },
    {
     "name": "stderr",
     "output_type": "stream",
     "text": [
      "2207it [00:00, 184549.71it/s]\n"
     ]
    }
   ],
   "source": [
    "items = root.iter(tag = \"item\")\n",
    "total = []\n",
    "\n",
    "for i in tqdm.tqdm(items):\n",
    "    tmp = {}\n",
    "    for j in i:\n",
    "        tmp[j.tag] = j.text\n",
    "    total.append(tmp)\n",
    "    \n",
    "df = pd.DataFrame(total)"
   ]
  },
  {
   "cell_type": "code",
   "execution_count": 78,
   "metadata": {},
   "outputs": [
    {
     "data": {
      "text/html": [
       "<div>\n",
       "<style scoped>\n",
       "    .dataframe tbody tr th:only-of-type {\n",
       "        vertical-align: middle;\n",
       "    }\n",
       "\n",
       "    .dataframe tbody tr th {\n",
       "        vertical-align: top;\n",
       "    }\n",
       "\n",
       "    .dataframe thead th {\n",
       "        text-align: right;\n",
       "    }\n",
       "</style>\n",
       "<table border=\"1\" class=\"dataframe\">\n",
       "  <thead>\n",
       "    <tr style=\"text-align: right;\">\n",
       "      <th></th>\n",
       "      <th>so2Grade</th>\n",
       "      <th>coFlag</th>\n",
       "      <th>khaiValue</th>\n",
       "      <th>so2Value</th>\n",
       "      <th>coValue</th>\n",
       "      <th>pm25Flag</th>\n",
       "      <th>pm10Flag</th>\n",
       "      <th>pm10Value</th>\n",
       "      <th>o3Grade</th>\n",
       "      <th>khaiGrade</th>\n",
       "      <th>pm25Value</th>\n",
       "      <th>no2Flag</th>\n",
       "      <th>no2Grade</th>\n",
       "      <th>o3Flag</th>\n",
       "      <th>pm25Grade</th>\n",
       "      <th>so2Flag</th>\n",
       "      <th>dataTime</th>\n",
       "      <th>coGrade</th>\n",
       "      <th>no2Value</th>\n",
       "      <th>pm10Grade</th>\n",
       "      <th>o3Value</th>\n",
       "    </tr>\n",
       "  </thead>\n",
       "  <tbody>\n",
       "    <tr>\n",
       "      <th>0</th>\n",
       "      <td>1</td>\n",
       "      <td>None</td>\n",
       "      <td>96</td>\n",
       "      <td>0.003</td>\n",
       "      <td>0.5</td>\n",
       "      <td>None</td>\n",
       "      <td>None</td>\n",
       "      <td>22</td>\n",
       "      <td>2</td>\n",
       "      <td>2</td>\n",
       "      <td>15</td>\n",
       "      <td>None</td>\n",
       "      <td>1</td>\n",
       "      <td>None</td>\n",
       "      <td>1</td>\n",
       "      <td>None</td>\n",
       "      <td>2023-08-17 14:00</td>\n",
       "      <td>1</td>\n",
       "      <td>0.013</td>\n",
       "      <td>1</td>\n",
       "      <td>0.085</td>\n",
       "    </tr>\n",
       "    <tr>\n",
       "      <th>1</th>\n",
       "      <td>1</td>\n",
       "      <td>None</td>\n",
       "      <td>88</td>\n",
       "      <td>0.003</td>\n",
       "      <td>0.5</td>\n",
       "      <td>None</td>\n",
       "      <td>None</td>\n",
       "      <td>24</td>\n",
       "      <td>2</td>\n",
       "      <td>2</td>\n",
       "      <td>16</td>\n",
       "      <td>None</td>\n",
       "      <td>1</td>\n",
       "      <td>None</td>\n",
       "      <td>1</td>\n",
       "      <td>None</td>\n",
       "      <td>2023-08-17 13:00</td>\n",
       "      <td>1</td>\n",
       "      <td>0.013</td>\n",
       "      <td>1</td>\n",
       "      <td>0.076</td>\n",
       "    </tr>\n",
       "    <tr>\n",
       "      <th>2</th>\n",
       "      <td>1</td>\n",
       "      <td>None</td>\n",
       "      <td>79</td>\n",
       "      <td>0.003</td>\n",
       "      <td>0.5</td>\n",
       "      <td>None</td>\n",
       "      <td>None</td>\n",
       "      <td>23</td>\n",
       "      <td>2</td>\n",
       "      <td>2</td>\n",
       "      <td>14</td>\n",
       "      <td>None</td>\n",
       "      <td>1</td>\n",
       "      <td>None</td>\n",
       "      <td>1</td>\n",
       "      <td>None</td>\n",
       "      <td>2023-08-17 12:00</td>\n",
       "      <td>1</td>\n",
       "      <td>0.016</td>\n",
       "      <td>1</td>\n",
       "      <td>0.064</td>\n",
       "    </tr>\n",
       "    <tr>\n",
       "      <th>3</th>\n",
       "      <td>1</td>\n",
       "      <td>None</td>\n",
       "      <td>65</td>\n",
       "      <td>0.003</td>\n",
       "      <td>0.5</td>\n",
       "      <td>None</td>\n",
       "      <td>None</td>\n",
       "      <td>18</td>\n",
       "      <td>2</td>\n",
       "      <td>2</td>\n",
       "      <td>9</td>\n",
       "      <td>None</td>\n",
       "      <td>1</td>\n",
       "      <td>None</td>\n",
       "      <td>1</td>\n",
       "      <td>None</td>\n",
       "      <td>2023-08-17 11:00</td>\n",
       "      <td>1</td>\n",
       "      <td>0.013</td>\n",
       "      <td>1</td>\n",
       "      <td>0.048</td>\n",
       "    </tr>\n",
       "    <tr>\n",
       "      <th>4</th>\n",
       "      <td>1</td>\n",
       "      <td>None</td>\n",
       "      <td>54</td>\n",
       "      <td>0.003</td>\n",
       "      <td>0.4</td>\n",
       "      <td>None</td>\n",
       "      <td>None</td>\n",
       "      <td>18</td>\n",
       "      <td>2</td>\n",
       "      <td>2</td>\n",
       "      <td>13</td>\n",
       "      <td>None</td>\n",
       "      <td>1</td>\n",
       "      <td>None</td>\n",
       "      <td>1</td>\n",
       "      <td>None</td>\n",
       "      <td>2023-08-17 10:00</td>\n",
       "      <td>1</td>\n",
       "      <td>0.014</td>\n",
       "      <td>1</td>\n",
       "      <td>0.034</td>\n",
       "    </tr>\n",
       "    <tr>\n",
       "      <th>...</th>\n",
       "      <td>...</td>\n",
       "      <td>...</td>\n",
       "      <td>...</td>\n",
       "      <td>...</td>\n",
       "      <td>...</td>\n",
       "      <td>...</td>\n",
       "      <td>...</td>\n",
       "      <td>...</td>\n",
       "      <td>...</td>\n",
       "      <td>...</td>\n",
       "      <td>...</td>\n",
       "      <td>...</td>\n",
       "      <td>...</td>\n",
       "      <td>...</td>\n",
       "      <td>...</td>\n",
       "      <td>...</td>\n",
       "      <td>...</td>\n",
       "      <td>...</td>\n",
       "      <td>...</td>\n",
       "      <td>...</td>\n",
       "      <td>...</td>\n",
       "    </tr>\n",
       "    <tr>\n",
       "      <th>2202</th>\n",
       "      <td>1</td>\n",
       "      <td>None</td>\n",
       "      <td>58</td>\n",
       "      <td>0.003</td>\n",
       "      <td>0.4</td>\n",
       "      <td>None</td>\n",
       "      <td>None</td>\n",
       "      <td>34</td>\n",
       "      <td>2</td>\n",
       "      <td>2</td>\n",
       "      <td>13</td>\n",
       "      <td>None</td>\n",
       "      <td>1</td>\n",
       "      <td>None</td>\n",
       "      <td>1</td>\n",
       "      <td>None</td>\n",
       "      <td>2023-05-17 20:00</td>\n",
       "      <td>1</td>\n",
       "      <td>0.012</td>\n",
       "      <td>2</td>\n",
       "      <td>0.033</td>\n",
       "    </tr>\n",
       "    <tr>\n",
       "      <th>2203</th>\n",
       "      <td>1</td>\n",
       "      <td>None</td>\n",
       "      <td>59</td>\n",
       "      <td>0.003</td>\n",
       "      <td>0.3</td>\n",
       "      <td>None</td>\n",
       "      <td>None</td>\n",
       "      <td>34</td>\n",
       "      <td>2</td>\n",
       "      <td>2</td>\n",
       "      <td>9</td>\n",
       "      <td>None</td>\n",
       "      <td>1</td>\n",
       "      <td>None</td>\n",
       "      <td>1</td>\n",
       "      <td>None</td>\n",
       "      <td>2023-05-17 19:00</td>\n",
       "      <td>1</td>\n",
       "      <td>0.012</td>\n",
       "      <td>2</td>\n",
       "      <td>0.037</td>\n",
       "    </tr>\n",
       "    <tr>\n",
       "      <th>2204</th>\n",
       "      <td>1</td>\n",
       "      <td>None</td>\n",
       "      <td>60</td>\n",
       "      <td>0.003</td>\n",
       "      <td>0.3</td>\n",
       "      <td>None</td>\n",
       "      <td>None</td>\n",
       "      <td>41</td>\n",
       "      <td>2</td>\n",
       "      <td>2</td>\n",
       "      <td>12</td>\n",
       "      <td>None</td>\n",
       "      <td>1</td>\n",
       "      <td>None</td>\n",
       "      <td>1</td>\n",
       "      <td>None</td>\n",
       "      <td>2023-05-17 18:00</td>\n",
       "      <td>1</td>\n",
       "      <td>0.011</td>\n",
       "      <td>2</td>\n",
       "      <td>0.040</td>\n",
       "    </tr>\n",
       "    <tr>\n",
       "      <th>2205</th>\n",
       "      <td>1</td>\n",
       "      <td>None</td>\n",
       "      <td>72</td>\n",
       "      <td>0.003</td>\n",
       "      <td>0.3</td>\n",
       "      <td>None</td>\n",
       "      <td>None</td>\n",
       "      <td>48</td>\n",
       "      <td>2</td>\n",
       "      <td>2</td>\n",
       "      <td>13</td>\n",
       "      <td>None</td>\n",
       "      <td>1</td>\n",
       "      <td>None</td>\n",
       "      <td>1</td>\n",
       "      <td>None</td>\n",
       "      <td>2023-05-17 17:00</td>\n",
       "      <td>1</td>\n",
       "      <td>0.009</td>\n",
       "      <td>2</td>\n",
       "      <td>0.055</td>\n",
       "    </tr>\n",
       "    <tr>\n",
       "      <th>2206</th>\n",
       "      <td>1</td>\n",
       "      <td>None</td>\n",
       "      <td>78</td>\n",
       "      <td>0.003</td>\n",
       "      <td>0.3</td>\n",
       "      <td>None</td>\n",
       "      <td>None</td>\n",
       "      <td>49</td>\n",
       "      <td>2</td>\n",
       "      <td>2</td>\n",
       "      <td>15</td>\n",
       "      <td>None</td>\n",
       "      <td>1</td>\n",
       "      <td>None</td>\n",
       "      <td>1</td>\n",
       "      <td>None</td>\n",
       "      <td>2023-05-17 16:00</td>\n",
       "      <td>1</td>\n",
       "      <td>0.010</td>\n",
       "      <td>2</td>\n",
       "      <td>0.063</td>\n",
       "    </tr>\n",
       "  </tbody>\n",
       "</table>\n",
       "<p>2207 rows × 21 columns</p>\n",
       "</div>"
      ],
      "text/plain": [
       "     so2Grade coFlag khaiValue so2Value coValue pm25Flag pm10Flag pm10Value  \\\n",
       "0           1   None        96    0.003     0.5     None     None        22   \n",
       "1           1   None        88    0.003     0.5     None     None        24   \n",
       "2           1   None        79    0.003     0.5     None     None        23   \n",
       "3           1   None        65    0.003     0.5     None     None        18   \n",
       "4           1   None        54    0.003     0.4     None     None        18   \n",
       "...       ...    ...       ...      ...     ...      ...      ...       ...   \n",
       "2202        1   None        58    0.003     0.4     None     None        34   \n",
       "2203        1   None        59    0.003     0.3     None     None        34   \n",
       "2204        1   None        60    0.003     0.3     None     None        41   \n",
       "2205        1   None        72    0.003     0.3     None     None        48   \n",
       "2206        1   None        78    0.003     0.3     None     None        49   \n",
       "\n",
       "     o3Grade khaiGrade pm25Value no2Flag no2Grade o3Flag pm25Grade so2Flag  \\\n",
       "0          2         2        15    None        1   None         1    None   \n",
       "1          2         2        16    None        1   None         1    None   \n",
       "2          2         2        14    None        1   None         1    None   \n",
       "3          2         2         9    None        1   None         1    None   \n",
       "4          2         2        13    None        1   None         1    None   \n",
       "...      ...       ...       ...     ...      ...    ...       ...     ...   \n",
       "2202       2         2        13    None        1   None         1    None   \n",
       "2203       2         2         9    None        1   None         1    None   \n",
       "2204       2         2        12    None        1   None         1    None   \n",
       "2205       2         2        13    None        1   None         1    None   \n",
       "2206       2         2        15    None        1   None         1    None   \n",
       "\n",
       "              dataTime coGrade no2Value pm10Grade o3Value  \n",
       "0     2023-08-17 14:00       1    0.013         1   0.085  \n",
       "1     2023-08-17 13:00       1    0.013         1   0.076  \n",
       "2     2023-08-17 12:00       1    0.016         1   0.064  \n",
       "3     2023-08-17 11:00       1    0.013         1   0.048  \n",
       "4     2023-08-17 10:00       1    0.014         1   0.034  \n",
       "...                ...     ...      ...       ...     ...  \n",
       "2202  2023-05-17 20:00       1    0.012         2   0.033  \n",
       "2203  2023-05-17 19:00       1    0.012         2   0.037  \n",
       "2204  2023-05-17 18:00       1    0.011         2   0.040  \n",
       "2205  2023-05-17 17:00       1    0.009         2   0.055  \n",
       "2206  2023-05-17 16:00       1    0.010         2   0.063  \n",
       "\n",
       "[2207 rows x 21 columns]"
      ]
     },
     "execution_count": 78,
     "metadata": {},
     "output_type": "execute_result"
    }
   ],
   "source": [
    "# https://www.data.go.kr/tcs/dss/selectApiDataDetailView.do?publicDataPk=15073861\n",
    "##  측정소별 실시간 측정정보 조회 목록에서 아래 컬럼들의 의미 파악 가능.\n",
    "pd.set_option('display.max_columns', None)\n",
    "\n",
    "df\n"
   ]
  },
  {
   "cell_type": "code",
   "execution_count": null,
   "metadata": {},
   "outputs": [],
   "source": []
  },
  {
   "cell_type": "code",
   "execution_count": null,
   "metadata": {},
   "outputs": [],
   "source": [
    "##  종로구, 동작구, 강남구 각 데이터 총합\n",
    "\n",
    "import requests\n",
    "import tqdm # 긴 반복문 같은 오랜 기달림이 필요한 작업에서 진행 시간이 나오게 하는 패키지.\n",
    "import pandas as pd\n",
    "import xml.etree.ElementTree as ET\n"
   ]
  },
  {
   "cell_type": "code",
   "execution_count": 79,
   "metadata": {},
   "outputs": [],
   "source": [
    "url = 'http://apis.data.go.kr/B552584/ArpltnInforInqireSvc/getMsrstnAcctoRltmMesureDnsty'\n",
    "\n",
    "params1 ={'serviceKey' : '34lIyWAciAsJlGtIZ4ltpLy2sLZDR+BRWvAv8RgoADNEd+KCgHe84XiSRUwL8JMMIubzsFW3ddjcNlhZHhvJIQ==', 'returnType' : 'xml', 'numOfRows' : '10000', 'pageNo' : '1', \n",
    "         'stationName' : '종로구', 'dataTerm' : '3MONTH' }\n",
    "\n",
    "params2 ={'serviceKey' : '34lIyWAciAsJlGtIZ4ltpLy2sLZDR+BRWvAv8RgoADNEd+KCgHe84XiSRUwL8JMMIubzsFW3ddjcNlhZHhvJIQ==', 'returnType' : 'xml', 'numOfRows' : '10000', 'pageNo' : '1', \n",
    "         'stationName' : '동작구', 'dataTerm' : '3MONTH' }\n",
    "\n",
    "params3 ={'serviceKey' : '34lIyWAciAsJlGtIZ4ltpLy2sLZDR+BRWvAv8RgoADNEd+KCgHe84XiSRUwL8JMMIubzsFW3ddjcNlhZHhvJIQ==', 'returnType' : 'xml', 'numOfRows' : '10000', 'pageNo' : '1', \n",
    "         'stationName' : '강남구', 'dataTerm' : '3MONTH' }\n",
    "\n",
    "air_r1 = requests.get(url, params=params1)\n",
    "air_r2 = requests.get(url, params=params2)\n",
    "air_r3 = requests.get(url, params=params3)"
   ]
  },
  {
   "cell_type": "code",
   "execution_count": 80,
   "metadata": {},
   "outputs": [],
   "source": [
    "root1 = ET.fromstring(air_r1.text)\n",
    "root2 = ET.fromstring(air_r2.text)\n",
    "root3 = ET.fromstring(air_r3.text)"
   ]
  },
  {
   "cell_type": "code",
   "execution_count": 87,
   "metadata": {},
   "outputs": [],
   "source": [
    "items1 = root1.iter(tag = \"item\")\n",
    "items2 = root2.iter(tag = \"item\")\n",
    "items3 = root3.iter(tag = \"item\")\n",
    "\n",
    "t_items = [items1, items2, items3]\n",
    "\n",
    "total1 = []\n",
    "total2 = []\n",
    "total3 = []\n",
    "\n",
    "# t_total = [total1, total2, total3]\n",
    "\n",
    "# for x in tqdm.tqdm(t_items):\n",
    "#     for i in x:\n",
    "#         tmp = {}\n",
    "#         for j in x[i]:\n",
    "#             tmp[j.tag] = j.text\n",
    "#         t_total[i].append(tmp)\n",
    "    \n",
    "for i in items1:\n",
    "    tmp = {}\n",
    "    for j in i:\n",
    "        tmp[j.tag] = j.text\n",
    "    total1.append(tmp)\n",
    "\n",
    "for i in items2:\n",
    "    tmp = {}\n",
    "    for j in i:\n",
    "        tmp[j.tag] = j.text\n",
    "    total2.append(tmp)\n",
    "\n",
    "for i in items3:\n",
    "    tmp = {}\n",
    "    for j in i:\n",
    "        tmp[j.tag] = j.text\n",
    "    total3.append(tmp)\n",
    "    \n",
    "jongro_df = pd.DataFrame(total1)\n",
    "dongjak_df = pd.DataFrame(total2)\n",
    "gangnam_df = pd.DataFrame(total3)"
   ]
  },
  {
   "cell_type": "code",
   "execution_count": 107,
   "metadata": {},
   "outputs": [
    {
     "data": {
      "text/plain": [
       "(2206, 19)"
      ]
     },
     "execution_count": 107,
     "metadata": {},
     "output_type": "execute_result"
    }
   ],
   "source": [
    "jongro_df['지역'] = '종로구'\n",
    "jongro_df.shape"
   ]
  },
  {
   "cell_type": "code",
   "execution_count": 108,
   "metadata": {},
   "outputs": [
    {
     "data": {
      "text/plain": [
       "(2206, 19)"
      ]
     },
     "execution_count": 108,
     "metadata": {},
     "output_type": "execute_result"
    }
   ],
   "source": [
    "dongjak_df['지역'] = '동작구'\n",
    "dongjak_df.shape"
   ]
  },
  {
   "cell_type": "code",
   "execution_count": 110,
   "metadata": {},
   "outputs": [
    {
     "data": {
      "text/plain": [
       "(2206, 19)"
      ]
     },
     "execution_count": 110,
     "metadata": {},
     "output_type": "execute_result"
    }
   ],
   "source": [
    "gangnam_df['지역'] = '강남구'\n",
    "gangnam_df.shape"
   ]
  },
  {
   "cell_type": "code",
   "execution_count": 96,
   "metadata": {},
   "outputs": [],
   "source": [
    "total_df = []\n",
    "total_df.append(jongro_df)\n",
    "total_df.append(dongjak_df)\n",
    "total_df.append(gangnam_df)"
   ]
  },
  {
   "cell_type": "code",
   "execution_count": 105,
   "metadata": {},
   "outputs": [
    {
     "data": {
      "text/plain": [
       "(6618, 19)"
      ]
     },
     "execution_count": 105,
     "metadata": {},
     "output_type": "execute_result"
    }
   ],
   "source": [
    "air_df2 = pd.concat(total_df)\n",
    "air_df2.shape"
   ]
  },
  {
   "cell_type": "code",
   "execution_count": null,
   "metadata": {},
   "outputs": [],
   "source": []
  },
  {
   "cell_type": "markdown",
   "metadata": {},
   "source": [
    "##  종로구, 동작구, 강남구 각 데이터 총합 : 정답 코드 아래!"
   ]
  },
  {
   "cell_type": "code",
   "execution_count": 100,
   "metadata": {},
   "outputs": [
    {
     "name": "stderr",
     "output_type": "stream",
     "text": [
      "100%|██████████| 3/3 [00:29<00:00,  9.76s/it]\n"
     ]
    }
   ],
   "source": [
    "## 위와 같은 수행을 위한 코드\n",
    "import xml.etree.ElementTree as ET\n",
    "import pandas as pd\n",
    "import tqdm\n",
    "\n",
    "\n",
    "import requests\n",
    "\n",
    "url = \"http://apis.data.go.kr/B552584/ArpltnInforInqireSvc/getMsrstnAcctoRltmMesureDnsty?serviceKey=34lIyWAciAsJlGtIZ4ltpLy2sLZDR%2BBRWvAv8RgoADNEd%2BKCgHe84XiSRUwL8JMMIubzsFW3ddjcNlhZHhvJIQ%3D%3D&returnType=xml&numOfRows=10000&pageNo=1&stationName={}&dataTerm=3MONTH&ver=1.0\"\n",
    "\n",
    "station = ['종로구', '강남구', '동작구']\n",
    "df_total = []\n",
    "for city in tqdm.tqdm(station):\n",
    "    r3 = requests.get(url.format(city), verify=False)\n",
    "    root = ET.fromstring(r3.text)\n",
    "\n",
    "    items = root.iter(tag='item')\n",
    "    total = []\n",
    "    for data in items:\n",
    "        tmp = {}\n",
    "        for x in data:\n",
    "            tmp[x.tag] = x.text\n",
    "        total.append(tmp)\n",
    "\n",
    "    df = pd.DataFrame(total)\n",
    "    df['지역'] = city\n",
    "    df_total.append(df)\n",
    "air_df = pd.concat(df_total)"
   ]
  },
  {
   "cell_type": "code",
   "execution_count": 113,
   "metadata": {},
   "outputs": [],
   "source": [
    "air_df.dropna(thresh=3000, axis=1, inplace=True)"
   ]
  },
  {
   "cell_type": "code",
   "execution_count": 114,
   "metadata": {},
   "outputs": [
    {
     "data": {
      "text/plain": [
       "(6621, 16)"
      ]
     },
     "execution_count": 114,
     "metadata": {},
     "output_type": "execute_result"
    }
   ],
   "source": [
    "air_df.shape"
   ]
  },
  {
   "cell_type": "code",
   "execution_count": 136,
   "metadata": {},
   "outputs": [
    {
     "data": {
      "text/plain": [
       "'0.091'"
      ]
     },
     "execution_count": 136,
     "metadata": {},
     "output_type": "execute_result"
    }
   ],
   "source": [
    "air_df.loc[air_df.o3Value != \"-\", 'o3Value'][0].values[0]\n",
    "##  String으로 되어있음."
   ]
  },
  {
   "cell_type": "code",
   "execution_count": 137,
   "metadata": {},
   "outputs": [],
   "source": [
    "tmp_df = air_df.loc[(air_df.dataTime.apply(lambda x : x[:7]  == \"2023-08\")) & (air_df.o3Value != \"-\") ,:].copy()\n"
   ]
  },
  {
   "cell_type": "code",
   "execution_count": 139,
   "metadata": {},
   "outputs": [],
   "source": [
    "tmp_df['o3Value'] = tmp_df.o3Value.astype(float)\n",
    "# '-' 가 포함한 행들은 전부 제외한 상태에서 float 형태로 바꿈 "
   ]
  },
  {
   "cell_type": "code",
   "execution_count": 140,
   "metadata": {},
   "outputs": [
    {
     "data": {
      "text/html": [
       "<div>\n",
       "<style scoped>\n",
       "    .dataframe tbody tr th:only-of-type {\n",
       "        vertical-align: middle;\n",
       "    }\n",
       "\n",
       "    .dataframe tbody tr th {\n",
       "        vertical-align: top;\n",
       "    }\n",
       "\n",
       "    .dataframe thead tr th {\n",
       "        text-align: left;\n",
       "    }\n",
       "\n",
       "    .dataframe thead tr:last-of-type th {\n",
       "        text-align: right;\n",
       "    }\n",
       "</style>\n",
       "<table border=\"1\" class=\"dataframe\">\n",
       "  <thead>\n",
       "    <tr>\n",
       "      <th></th>\n",
       "      <th colspan=\"4\" halign=\"left\">o3Value</th>\n",
       "    </tr>\n",
       "    <tr>\n",
       "      <th></th>\n",
       "      <th>mean</th>\n",
       "      <th>max</th>\n",
       "      <th>min</th>\n",
       "      <th>median</th>\n",
       "    </tr>\n",
       "    <tr>\n",
       "      <th>지역</th>\n",
       "      <th></th>\n",
       "      <th></th>\n",
       "      <th></th>\n",
       "      <th></th>\n",
       "    </tr>\n",
       "  </thead>\n",
       "  <tbody>\n",
       "    <tr>\n",
       "      <th>강남구</th>\n",
       "      <td>0.031981</td>\n",
       "      <td>0.131</td>\n",
       "      <td>0.002</td>\n",
       "      <td>0.025</td>\n",
       "    </tr>\n",
       "    <tr>\n",
       "      <th>동작구</th>\n",
       "      <td>0.037126</td>\n",
       "      <td>0.141</td>\n",
       "      <td>0.005</td>\n",
       "      <td>0.030</td>\n",
       "    </tr>\n",
       "    <tr>\n",
       "      <th>종로구</th>\n",
       "      <td>0.034927</td>\n",
       "      <td>0.126</td>\n",
       "      <td>0.005</td>\n",
       "      <td>0.028</td>\n",
       "    </tr>\n",
       "  </tbody>\n",
       "</table>\n",
       "</div>"
      ],
      "text/plain": [
       "      o3Value                     \n",
       "         mean    max    min median\n",
       "지역                                \n",
       "강남구  0.031981  0.131  0.002  0.025\n",
       "동작구  0.037126  0.141  0.005  0.030\n",
       "종로구  0.034927  0.126  0.005  0.028"
      ]
     },
     "execution_count": 140,
     "metadata": {},
     "output_type": "execute_result"
    }
   ],
   "source": [
    "tmp_df.groupby(['지역'])[['o3Value']].agg(['mean', 'max', 'min', 'median'])"
   ]
  },
  {
   "cell_type": "code",
   "execution_count": null,
   "metadata": {},
   "outputs": [],
   "source": []
  },
  {
   "cell_type": "code",
   "execution_count": 141,
   "metadata": {},
   "outputs": [
    {
     "data": {
      "text/plain": [
       "6621"
      ]
     },
     "execution_count": 141,
     "metadata": {},
     "output_type": "execute_result"
    }
   ],
   "source": [
    "# db 저장\n",
    "import sqlalchemy\n",
    "# DB 설정\n",
    "user = 'root'\n",
    "password = '8489'\n",
    "host = '127.0.0.1' # loopback IP or Localhost \n",
    "port = '3306'\n",
    "\n",
    "## MySQL 워크벤치에서 직접 'encore' 데이터베이스를 생성\n",
    "database = 'encore'\n",
    "engine = sqlalchemy.create_engine(f\"mysql://{user}:{password}@{host}:{port}/{database}\")\n",
    "\n",
    "## mysql에 연결되고 starbucks 테이블이 생성되고 데이터가 저장됨\n",
    "air_df.to_sql(con=engine, name=\"air\", if_exists=\"replace\")"
   ]
  },
  {
   "cell_type": "code",
   "execution_count": null,
   "metadata": {},
   "outputs": [],
   "source": []
  }
 ],
 "metadata": {
  "kernelspec": {
   "display_name": "Python 3 (ipykernel)",
   "language": "python",
   "name": "python3"
  },
  "language_info": {
   "codemirror_mode": {
    "name": "ipython",
    "version": 3
   },
   "file_extension": ".py",
   "mimetype": "text/x-python",
   "name": "python",
   "nbconvert_exporter": "python",
   "pygments_lexer": "ipython3",
   "version": "3.10.9"
  }
 },
 "nbformat": 4,
 "nbformat_minor": 4
}
