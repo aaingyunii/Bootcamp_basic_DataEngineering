{
 "cells": [
  {
   "cell_type": "code",
   "execution_count": 22,
   "id": "3cbda84a-25de-4c32-899f-315e632a004f",
   "metadata": {
    "tags": []
   },
   "outputs": [],
   "source": [
    "import requests "
   ]
  },
  {
   "cell_type": "code",
   "execution_count": 23,
   "id": "5ba65ab6-76e8-4517-8be9-c5efecf420dc",
   "metadata": {
    "tags": []
   },
   "outputs": [],
   "source": [
    "url = \"http://data.krx.co.kr/comm/bldAttendant/getJsonData.cmd\""
   ]
  },
  {
   "cell_type": "code",
   "execution_count": 24,
   "id": "e6db175e-e4c4-4590-bc69-d48f026f2a40",
   "metadata": {
    "tags": []
   },
   "outputs": [],
   "source": [
    "payload = {\"bld\" : \"dbms/MDC/STAT/standard/MDCSTAT01901\",\n",
    "            \"locale\" : \"ko_KR\",\n",
    "            \"mktId\" : \"ALL\",\n",
    "            \"share\" : \"1\",\n",
    "            \"csvxls_isNo\" : \"false\",}"
   ]
  },
  {
   "cell_type": "code",
   "execution_count": 25,
   "id": "e58096b6-2865-40a6-93f0-8391a87117ba",
   "metadata": {
    "tags": []
   },
   "outputs": [],
   "source": [
    "r = requests.post(url, data=payload)"
   ]
  },
  {
   "cell_type": "code",
   "execution_count": 26,
   "id": "a30f84c3-7cae-4d2f-9f93-e423928690d6",
   "metadata": {
    "tags": []
   },
   "outputs": [],
   "source": [
    "import pandas as pd\n",
    "df = pd.DataFrame(r.json()['OutBlock_1'])\n"
   ]
  },
  {
   "cell_type": "code",
   "execution_count": 27,
   "id": "8ea9fc80-6fbc-499c-8792-ff68a31792ae",
   "metadata": {
    "tags": []
   },
   "outputs": [
    {
     "data": {
      "text/html": [
       "<div>\n",
       "<style scoped>\n",
       "    .dataframe tbody tr th:only-of-type {\n",
       "        vertical-align: middle;\n",
       "    }\n",
       "\n",
       "    .dataframe tbody tr th {\n",
       "        vertical-align: top;\n",
       "    }\n",
       "\n",
       "    .dataframe thead th {\n",
       "        text-align: right;\n",
       "    }\n",
       "</style>\n",
       "<table border=\"1\" class=\"dataframe\">\n",
       "  <thead>\n",
       "    <tr style=\"text-align: right;\">\n",
       "      <th></th>\n",
       "      <th>ISU_CD</th>\n",
       "      <th>ISU_SRT_CD</th>\n",
       "      <th>ISU_NM</th>\n",
       "      <th>ISU_ABBRV</th>\n",
       "      <th>ISU_ENG_NM</th>\n",
       "      <th>LIST_DD</th>\n",
       "      <th>MKT_TP_NM</th>\n",
       "      <th>SECUGRP_NM</th>\n",
       "      <th>SECT_TP_NM</th>\n",
       "      <th>KIND_STKCERT_TP_NM</th>\n",
       "      <th>PARVAL</th>\n",
       "      <th>LIST_SHRS</th>\n",
       "    </tr>\n",
       "  </thead>\n",
       "  <tbody>\n",
       "    <tr>\n",
       "      <th>1071</th>\n",
       "      <td>KR7424960003</td>\n",
       "      <td>424960</td>\n",
       "      <td>스마트레이더시스템</td>\n",
       "      <td>스마트레이더시스템</td>\n",
       "      <td>Smart Radar System, Inc.</td>\n",
       "      <td>2023/08/22</td>\n",
       "      <td>KOSDAQ</td>\n",
       "      <td>주권</td>\n",
       "      <td>기술성장기업부</td>\n",
       "      <td>보통주</td>\n",
       "      <td>500</td>\n",
       "      <td>14,836,340</td>\n",
       "    </tr>\n",
       "    <tr>\n",
       "      <th>293</th>\n",
       "      <td>KR7092790005</td>\n",
       "      <td>092790</td>\n",
       "      <td>넥스틸보통주</td>\n",
       "      <td>넥스틸</td>\n",
       "      <td>NEXTEEL</td>\n",
       "      <td>2023/08/21</td>\n",
       "      <td>KOSPI</td>\n",
       "      <td>주권</td>\n",
       "      <td></td>\n",
       "      <td>보통주</td>\n",
       "      <td>500</td>\n",
       "      <td>26,002,000</td>\n",
       "    </tr>\n",
       "    <tr>\n",
       "      <th>844</th>\n",
       "      <td>KR7210120002</td>\n",
       "      <td>210120</td>\n",
       "      <td>빅토리콘텐츠</td>\n",
       "      <td>빅텐츠</td>\n",
       "      <td>Victory Contents Co.,Ltd.</td>\n",
       "      <td>2023/08/17</td>\n",
       "      <td>KOSDAQ</td>\n",
       "      <td>주권</td>\n",
       "      <td>중견기업부</td>\n",
       "      <td>보통주</td>\n",
       "      <td>500</td>\n",
       "      <td>3,144,610</td>\n",
       "    </tr>\n",
       "    <tr>\n",
       "      <th>1382</th>\n",
       "      <td>KR7457940005</td>\n",
       "      <td>457940</td>\n",
       "      <td>에스케이증권제10호기업인수목적</td>\n",
       "      <td>에스케이증권제10호스팩</td>\n",
       "      <td>SK Securities No.10 Special Purpose Acquisitio...</td>\n",
       "      <td>2023/08/11</td>\n",
       "      <td>KOSDAQ</td>\n",
       "      <td>주권</td>\n",
       "      <td>SPAC(소속부없음)</td>\n",
       "      <td>보통주</td>\n",
       "      <td>100</td>\n",
       "      <td>3,310,000</td>\n",
       "    </tr>\n",
       "    <tr>\n",
       "      <th>2106</th>\n",
       "      <td>KR7458320009</td>\n",
       "      <td>458320</td>\n",
       "      <td>케이비제26호기업인수목적</td>\n",
       "      <td>KB제26호스팩</td>\n",
       "      <td>KB No.26 Special Purpose Acquisition Company</td>\n",
       "      <td>2023/08/10</td>\n",
       "      <td>KOSDAQ</td>\n",
       "      <td>주권</td>\n",
       "      <td>SPAC(소속부없음)</td>\n",
       "      <td>보통주</td>\n",
       "      <td>100</td>\n",
       "      <td>5,505,000</td>\n",
       "    </tr>\n",
       "    <tr>\n",
       "      <th>...</th>\n",
       "      <td>...</td>\n",
       "      <td>...</td>\n",
       "      <td>...</td>\n",
       "      <td>...</td>\n",
       "      <td>...</td>\n",
       "      <td>...</td>\n",
       "      <td>...</td>\n",
       "      <td>...</td>\n",
       "      <td>...</td>\n",
       "      <td>...</td>\n",
       "      <td>...</td>\n",
       "      <td>...</td>\n",
       "    </tr>\n",
       "    <tr>\n",
       "      <th>1776</th>\n",
       "      <td>KR7000100008</td>\n",
       "      <td>000100</td>\n",
       "      <td>유한양행보통주</td>\n",
       "      <td>유한양행</td>\n",
       "      <td>Yuhan</td>\n",
       "      <td>1962/11/01</td>\n",
       "      <td>KOSPI</td>\n",
       "      <td>주권</td>\n",
       "      <td></td>\n",
       "      <td>보통주</td>\n",
       "      <td>1,000</td>\n",
       "      <td>76,638,657</td>\n",
       "    </tr>\n",
       "    <tr>\n",
       "      <th>1183</th>\n",
       "      <td>KR7000120006</td>\n",
       "      <td>000120</td>\n",
       "      <td>씨제이대한통운보통주</td>\n",
       "      <td>CJ대한통운</td>\n",
       "      <td>CJ LOGISTICS</td>\n",
       "      <td>1956/07/02</td>\n",
       "      <td>KOSPI</td>\n",
       "      <td>주권</td>\n",
       "      <td></td>\n",
       "      <td>보통주</td>\n",
       "      <td>5,000</td>\n",
       "      <td>22,812,344</td>\n",
       "    </tr>\n",
       "    <tr>\n",
       "      <th>1744</th>\n",
       "      <td>KR7000700005</td>\n",
       "      <td>000700</td>\n",
       "      <td>유수홀딩스보통주</td>\n",
       "      <td>유수홀딩스</td>\n",
       "      <td>EUSU HOLDINGS</td>\n",
       "      <td>1956/03/03</td>\n",
       "      <td>KOSPI</td>\n",
       "      <td>주권</td>\n",
       "      <td></td>\n",
       "      <td>보통주</td>\n",
       "      <td>2,500</td>\n",
       "      <td>26,041,812</td>\n",
       "    </tr>\n",
       "    <tr>\n",
       "      <th>153</th>\n",
       "      <td>KR7000050005</td>\n",
       "      <td>000050</td>\n",
       "      <td>경방보통주</td>\n",
       "      <td>경방</td>\n",
       "      <td>Kyungbang</td>\n",
       "      <td>1956/03/03</td>\n",
       "      <td>KOSPI</td>\n",
       "      <td>주권</td>\n",
       "      <td></td>\n",
       "      <td>보통주</td>\n",
       "      <td>500</td>\n",
       "      <td>27,415,270</td>\n",
       "    </tr>\n",
       "    <tr>\n",
       "      <th>2614</th>\n",
       "      <td>KR7003480001</td>\n",
       "      <td>003480</td>\n",
       "      <td>한진중공업홀딩스보통주</td>\n",
       "      <td>한진중공업홀딩스</td>\n",
       "      <td>HanjinHeavyInd&amp;ConstHoldings</td>\n",
       "      <td>1956/03/03</td>\n",
       "      <td>KOSPI</td>\n",
       "      <td>주권</td>\n",
       "      <td></td>\n",
       "      <td>보통주</td>\n",
       "      <td>5,000</td>\n",
       "      <td>29,529,812</td>\n",
       "    </tr>\n",
       "  </tbody>\n",
       "</table>\n",
       "<p>2747 rows × 12 columns</p>\n",
       "</div>"
      ],
      "text/plain": [
       "            ISU_CD ISU_SRT_CD            ISU_NM     ISU_ABBRV   \n",
       "1071  KR7424960003     424960         스마트레이더시스템     스마트레이더시스템  \\\n",
       "293   KR7092790005     092790            넥스틸보통주           넥스틸   \n",
       "844   KR7210120002     210120            빅토리콘텐츠           빅텐츠   \n",
       "1382  KR7457940005     457940  에스케이증권제10호기업인수목적  에스케이증권제10호스팩   \n",
       "2106  KR7458320009     458320     케이비제26호기업인수목적      KB제26호스팩   \n",
       "...            ...        ...               ...           ...   \n",
       "1776  KR7000100008     000100           유한양행보통주          유한양행   \n",
       "1183  KR7000120006     000120        씨제이대한통운보통주        CJ대한통운   \n",
       "1744  KR7000700005     000700          유수홀딩스보통주         유수홀딩스   \n",
       "153   KR7000050005     000050             경방보통주            경방   \n",
       "2614  KR7003480001     003480       한진중공업홀딩스보통주      한진중공업홀딩스   \n",
       "\n",
       "                                             ISU_ENG_NM     LIST_DD MKT_TP_NM   \n",
       "1071                           Smart Radar System, Inc.  2023/08/22    KOSDAQ  \\\n",
       "293                                             NEXTEEL  2023/08/21     KOSPI   \n",
       "844                           Victory Contents Co.,Ltd.  2023/08/17    KOSDAQ   \n",
       "1382  SK Securities No.10 Special Purpose Acquisitio...  2023/08/11    KOSDAQ   \n",
       "2106       KB No.26 Special Purpose Acquisition Company  2023/08/10    KOSDAQ   \n",
       "...                                                 ...         ...       ...   \n",
       "1776                                              Yuhan  1962/11/01     KOSPI   \n",
       "1183                                       CJ LOGISTICS  1956/07/02     KOSPI   \n",
       "1744                                      EUSU HOLDINGS  1956/03/03     KOSPI   \n",
       "153                                           Kyungbang  1956/03/03     KOSPI   \n",
       "2614                       HanjinHeavyInd&ConstHoldings  1956/03/03     KOSPI   \n",
       "\n",
       "     SECUGRP_NM   SECT_TP_NM KIND_STKCERT_TP_NM PARVAL   LIST_SHRS  \n",
       "1071         주권      기술성장기업부                보통주    500  14,836,340  \n",
       "293          주권                             보통주    500  26,002,000  \n",
       "844          주권        중견기업부                보통주    500   3,144,610  \n",
       "1382         주권  SPAC(소속부없음)                보통주    100   3,310,000  \n",
       "2106         주권  SPAC(소속부없음)                보통주    100   5,505,000  \n",
       "...         ...          ...                ...    ...         ...  \n",
       "1776         주권                             보통주  1,000  76,638,657  \n",
       "1183         주권                             보통주  5,000  22,812,344  \n",
       "1744         주권                             보통주  2,500  26,041,812  \n",
       "153          주권                             보통주    500  27,415,270  \n",
       "2614         주권                             보통주  5,000  29,529,812  \n",
       "\n",
       "[2747 rows x 12 columns]"
      ]
     },
     "execution_count": 27,
     "metadata": {},
     "output_type": "execute_result"
    }
   ],
   "source": [
    "df.sort_values(by=['LIST_DD'], ascending=False)"
   ]
  },
  {
   "cell_type": "code",
   "execution_count": 28,
   "id": "ac871c12-89ba-48cc-aafe-af1eb843db06",
   "metadata": {
    "tags": []
   },
   "outputs": [],
   "source": [
    "df['LIST_DD'] = pd.to_datetime(df['LIST_DD'])"
   ]
  },
  {
   "cell_type": "code",
   "execution_count": 29,
   "id": "1d463f5e-590d-4a16-b0d7-6dfb2ac7a850",
   "metadata": {
    "tags": []
   },
   "outputs": [
    {
     "data": {
      "text/plain": [
       "LIST_DD\n",
       "4    667\n",
       "3    572\n",
       "1    557\n",
       "2    490\n",
       "0    383\n",
       "5     78\n",
       "Name: count, dtype: int64"
      ]
     },
     "execution_count": 29,
     "metadata": {},
     "output_type": "execute_result"
    }
   ],
   "source": [
    "df['LIST_DD'].apply(lambda x : x.weekday()).value_counts()"
   ]
  },
  {
   "cell_type": "code",
   "execution_count": 30,
   "id": "416d2867-7a0d-4a7d-a952-f8f3fd3c60ae",
   "metadata": {
    "tags": []
   },
   "outputs": [],
   "source": [
    "master = dict(zip(range(0,7), \"월화수목금토일\"))"
   ]
  },
  {
   "cell_type": "code",
   "execution_count": 31,
   "id": "99ecb46c-c398-4c1c-8240-25dceccb8155",
   "metadata": {
    "tags": []
   },
   "outputs": [
    {
     "data": {
      "text/plain": [
       "LIST_DD\n",
       "금    667\n",
       "목    572\n",
       "화    557\n",
       "수    490\n",
       "월    383\n",
       "토     78\n",
       "Name: count, dtype: int64"
      ]
     },
     "execution_count": 31,
     "metadata": {},
     "output_type": "execute_result"
    }
   ],
   "source": [
    "df['LIST_DD'].apply(lambda x : master[x.weekday()]).value_counts()"
   ]
  },
  {
   "cell_type": "code",
   "execution_count": 32,
   "id": "bb964d46-4a90-4c20-af1c-0026a0a21e72",
   "metadata": {
    "tags": []
   },
   "outputs": [
    {
     "data": {
      "text/html": [
       "<div>\n",
       "<style scoped>\n",
       "    .dataframe tbody tr th:only-of-type {\n",
       "        vertical-align: middle;\n",
       "    }\n",
       "\n",
       "    .dataframe tbody tr th {\n",
       "        vertical-align: top;\n",
       "    }\n",
       "\n",
       "    .dataframe thead th {\n",
       "        text-align: right;\n",
       "    }\n",
       "</style>\n",
       "<table border=\"1\" class=\"dataframe\">\n",
       "  <thead>\n",
       "    <tr style=\"text-align: right;\">\n",
       "      <th></th>\n",
       "      <th>ISU_CD</th>\n",
       "      <th>ISU_SRT_CD</th>\n",
       "      <th>ISU_NM</th>\n",
       "      <th>ISU_ABBRV</th>\n",
       "      <th>ISU_ENG_NM</th>\n",
       "      <th>LIST_DD</th>\n",
       "      <th>MKT_TP_NM</th>\n",
       "      <th>SECUGRP_NM</th>\n",
       "      <th>SECT_TP_NM</th>\n",
       "      <th>KIND_STKCERT_TP_NM</th>\n",
       "      <th>PARVAL</th>\n",
       "      <th>LIST_SHRS</th>\n",
       "    </tr>\n",
       "  </thead>\n",
       "  <tbody>\n",
       "    <tr>\n",
       "      <th>994</th>\n",
       "      <td>KR7015750003</td>\n",
       "      <td>015750</td>\n",
       "      <td>성우하이텍</td>\n",
       "      <td>성우하이텍</td>\n",
       "      <td>SUNGWOO HITECH CO., LTD</td>\n",
       "      <td>1995-11-04</td>\n",
       "      <td>KOSDAQ</td>\n",
       "      <td>주권</td>\n",
       "      <td>우량기업부</td>\n",
       "      <td>보통주</td>\n",
       "      <td>500</td>\n",
       "      <td>80,000,000</td>\n",
       "    </tr>\n",
       "    <tr>\n",
       "      <th>1199</th>\n",
       "      <td>KR7025980004</td>\n",
       "      <td>025980</td>\n",
       "      <td>아난티</td>\n",
       "      <td>아난티</td>\n",
       "      <td>Ananti Inc.</td>\n",
       "      <td>1996-01-06</td>\n",
       "      <td>KOSDAQ</td>\n",
       "      <td>주권</td>\n",
       "      <td>우량기업부</td>\n",
       "      <td>보통주</td>\n",
       "      <td>100</td>\n",
       "      <td>87,629,522</td>\n",
       "    </tr>\n",
       "    <tr>\n",
       "      <th>2378</th>\n",
       "      <td>KR7027710003</td>\n",
       "      <td>027710</td>\n",
       "      <td>팜스토리</td>\n",
       "      <td>팜스토리</td>\n",
       "      <td>FarmStory CO.,LTD.</td>\n",
       "      <td>1996-07-06</td>\n",
       "      <td>KOSDAQ</td>\n",
       "      <td>주권</td>\n",
       "      <td>우량기업부</td>\n",
       "      <td>보통주</td>\n",
       "      <td>500</td>\n",
       "      <td>111,416,600</td>\n",
       "    </tr>\n",
       "    <tr>\n",
       "      <th>1434</th>\n",
       "      <td>KR7028300002</td>\n",
       "      <td>028300</td>\n",
       "      <td>에이치엘비</td>\n",
       "      <td>HLB</td>\n",
       "      <td>HLB INC.</td>\n",
       "      <td>1996-07-27</td>\n",
       "      <td>KOSDAQ</td>\n",
       "      <td>주권</td>\n",
       "      <td>중견기업부</td>\n",
       "      <td>보통주</td>\n",
       "      <td>500</td>\n",
       "      <td>128,929,651</td>\n",
       "    </tr>\n",
       "    <tr>\n",
       "      <th>910</th>\n",
       "      <td>KR7032280000</td>\n",
       "      <td>032280</td>\n",
       "      <td>삼일</td>\n",
       "      <td>삼일</td>\n",
       "      <td>SamIl</td>\n",
       "      <td>1997-03-15</td>\n",
       "      <td>KOSDAQ</td>\n",
       "      <td>주권</td>\n",
       "      <td>중견기업부</td>\n",
       "      <td>보통주</td>\n",
       "      <td>1,000</td>\n",
       "      <td>16,213,590</td>\n",
       "    </tr>\n",
       "  </tbody>\n",
       "</table>\n",
       "</div>"
      ],
      "text/plain": [
       "            ISU_CD ISU_SRT_CD ISU_NM ISU_ABBRV               ISU_ENG_NM   \n",
       "994   KR7015750003     015750  성우하이텍     성우하이텍  SUNGWOO HITECH CO., LTD  \\\n",
       "1199  KR7025980004     025980    아난티       아난티              Ananti Inc.   \n",
       "2378  KR7027710003     027710   팜스토리      팜스토리       FarmStory CO.,LTD.   \n",
       "1434  KR7028300002     028300  에이치엘비       HLB                 HLB INC.   \n",
       "910   KR7032280000     032280     삼일        삼일                    SamIl   \n",
       "\n",
       "        LIST_DD MKT_TP_NM SECUGRP_NM SECT_TP_NM KIND_STKCERT_TP_NM PARVAL   \n",
       "994  1995-11-04    KOSDAQ         주권      우량기업부                보통주    500  \\\n",
       "1199 1996-01-06    KOSDAQ         주권      우량기업부                보통주    100   \n",
       "2378 1996-07-06    KOSDAQ         주권      우량기업부                보통주    500   \n",
       "1434 1996-07-27    KOSDAQ         주권      중견기업부                보통주    500   \n",
       "910  1997-03-15    KOSDAQ         주권      중견기업부                보통주  1,000   \n",
       "\n",
       "        LIST_SHRS  \n",
       "994    80,000,000  \n",
       "1199   87,629,522  \n",
       "2378  111,416,600  \n",
       "1434  128,929,651  \n",
       "910    16,213,590  "
      ]
     },
     "execution_count": 32,
     "metadata": {},
     "output_type": "execute_result"
    }
   ],
   "source": [
    "df[df['LIST_DD'].apply(lambda x : master[x.weekday()] == \"토\")].sort_values(by=['LIST_DD']).tail(5)"
   ]
  },
  {
   "cell_type": "code",
   "execution_count": 33,
   "id": "7a7da25d-316f-44c7-a7b3-b85d7946ee0f",
   "metadata": {
    "tags": []
   },
   "outputs": [],
   "source": [
    "from datetime import date, datetime, timedelta\n",
    "df['현재까지'] = df['LIST_DD'].apply(lambda x : (datetime.now() - x).days)"
   ]
  },
  {
   "cell_type": "code",
   "execution_count": 34,
   "id": "261585f0-71ff-4522-9fca-731e11088159",
   "metadata": {
    "tags": []
   },
   "outputs": [
    {
     "data": {
      "text/plain": [
       "(55, 13)"
      ]
     },
     "execution_count": 34,
     "metadata": {},
     "output_type": "execute_result"
    }
   ],
   "source": [
    "df[df['현재까지'] < 100].shape"
   ]
  },
  {
   "cell_type": "code",
   "execution_count": 35,
   "id": "323602c1-9020-4a50-b259-e96125fa4aa3",
   "metadata": {
    "tags": []
   },
   "outputs": [],
   "source": [
    "target = df[df['MKT_TP_NM'].isin(['KOSPI', 'KOSDAQ'])].copy()"
   ]
  },
  {
   "cell_type": "code",
   "execution_count": 36,
   "id": "0338c88b-b279-4adf-8304-f08d5427d1f5",
   "metadata": {
    "tags": []
   },
   "outputs": [
    {
     "data": {
      "text/html": [
       "<div>\n",
       "<style scoped>\n",
       "    .dataframe tbody tr th:only-of-type {\n",
       "        vertical-align: middle;\n",
       "    }\n",
       "\n",
       "    .dataframe tbody tr th {\n",
       "        vertical-align: top;\n",
       "    }\n",
       "\n",
       "    .dataframe thead th {\n",
       "        text-align: right;\n",
       "    }\n",
       "</style>\n",
       "<table border=\"1\" class=\"dataframe\">\n",
       "  <thead>\n",
       "    <tr style=\"text-align: right;\">\n",
       "      <th></th>\n",
       "      <th>ISU_CD</th>\n",
       "      <th>ISU_SRT_CD</th>\n",
       "      <th>ISU_NM</th>\n",
       "      <th>ISU_ABBRV</th>\n",
       "      <th>ISU_ENG_NM</th>\n",
       "      <th>LIST_DD</th>\n",
       "      <th>MKT_TP_NM</th>\n",
       "      <th>SECUGRP_NM</th>\n",
       "      <th>SECT_TP_NM</th>\n",
       "      <th>KIND_STKCERT_TP_NM</th>\n",
       "      <th>PARVAL</th>\n",
       "      <th>LIST_SHRS</th>\n",
       "      <th>현재까지</th>\n",
       "    </tr>\n",
       "  </thead>\n",
       "  <tbody>\n",
       "    <tr>\n",
       "      <th>0</th>\n",
       "      <td>KR7098120009</td>\n",
       "      <td>098120</td>\n",
       "      <td>(주)마이크로컨텍솔루션</td>\n",
       "      <td>마이크로컨텍솔</td>\n",
       "      <td>Micro Contact Solution Co.,Ltd.</td>\n",
       "      <td>2008-09-23</td>\n",
       "      <td>KOSDAQ</td>\n",
       "      <td>주권</td>\n",
       "      <td>중견기업부</td>\n",
       "      <td>보통주</td>\n",
       "      <td>500</td>\n",
       "      <td>8,312,766</td>\n",
       "      <td>5447</td>\n",
       "    </tr>\n",
       "    <tr>\n",
       "      <th>1</th>\n",
       "      <td>KR7009520008</td>\n",
       "      <td>009520</td>\n",
       "      <td>(주)포스코엠텍</td>\n",
       "      <td>포스코엠텍</td>\n",
       "      <td>POSCO M-TECH CO.,LTD.</td>\n",
       "      <td>1997-11-10</td>\n",
       "      <td>KOSDAQ</td>\n",
       "      <td>주권</td>\n",
       "      <td>우량기업부</td>\n",
       "      <td>보통주</td>\n",
       "      <td>500</td>\n",
       "      <td>41,642,703</td>\n",
       "      <td>9417</td>\n",
       "    </tr>\n",
       "    <tr>\n",
       "      <th>2</th>\n",
       "      <td>KR7095570008</td>\n",
       "      <td>095570</td>\n",
       "      <td>AJ네트웍스보통주</td>\n",
       "      <td>AJ네트웍스</td>\n",
       "      <td>AJ Networks Co.,Ltd.</td>\n",
       "      <td>2015-08-21</td>\n",
       "      <td>KOSPI</td>\n",
       "      <td>주권</td>\n",
       "      <td></td>\n",
       "      <td>보통주</td>\n",
       "      <td>1,000</td>\n",
       "      <td>46,822,295</td>\n",
       "      <td>2924</td>\n",
       "    </tr>\n",
       "    <tr>\n",
       "      <th>3</th>\n",
       "      <td>KR7006840003</td>\n",
       "      <td>006840</td>\n",
       "      <td>AK홀딩스보통주</td>\n",
       "      <td>AK홀딩스</td>\n",
       "      <td>AK Holdings, Inc.</td>\n",
       "      <td>1999-08-11</td>\n",
       "      <td>KOSPI</td>\n",
       "      <td>주권</td>\n",
       "      <td></td>\n",
       "      <td>보통주</td>\n",
       "      <td>5,000</td>\n",
       "      <td>13,247,561</td>\n",
       "      <td>8778</td>\n",
       "    </tr>\n",
       "    <tr>\n",
       "      <th>4</th>\n",
       "      <td>KR7282330000</td>\n",
       "      <td>282330</td>\n",
       "      <td>BGF리테일보통주</td>\n",
       "      <td>BGF리테일</td>\n",
       "      <td>BGF Retail</td>\n",
       "      <td>2017-12-08</td>\n",
       "      <td>KOSPI</td>\n",
       "      <td>주권</td>\n",
       "      <td></td>\n",
       "      <td>보통주</td>\n",
       "      <td>1,000</td>\n",
       "      <td>17,283,906</td>\n",
       "      <td>2084</td>\n",
       "    </tr>\n",
       "    <tr>\n",
       "      <th>...</th>\n",
       "      <td>...</td>\n",
       "      <td>...</td>\n",
       "      <td>...</td>\n",
       "      <td>...</td>\n",
       "      <td>...</td>\n",
       "      <td>...</td>\n",
       "      <td>...</td>\n",
       "      <td>...</td>\n",
       "      <td>...</td>\n",
       "      <td>...</td>\n",
       "      <td>...</td>\n",
       "      <td>...</td>\n",
       "      <td>...</td>\n",
       "    </tr>\n",
       "    <tr>\n",
       "      <th>2742</th>\n",
       "      <td>KR7000541003</td>\n",
       "      <td>000545</td>\n",
       "      <td>흥국화재해상보험1우선주</td>\n",
       "      <td>흥국화재우</td>\n",
       "      <td>HeungkukFire&amp;MarineIns(1P)</td>\n",
       "      <td>1990-03-20</td>\n",
       "      <td>KOSPI</td>\n",
       "      <td>주권</td>\n",
       "      <td></td>\n",
       "      <td>구형우선주</td>\n",
       "      <td>5,000</td>\n",
       "      <td>768,000</td>\n",
       "      <td>12209</td>\n",
       "    </tr>\n",
       "    <tr>\n",
       "      <th>2743</th>\n",
       "      <td>KR7000540005</td>\n",
       "      <td>000540</td>\n",
       "      <td>흥국화재해상보험보통주</td>\n",
       "      <td>흥국화재</td>\n",
       "      <td>HeungkukFire&amp;MarineInsurance</td>\n",
       "      <td>1974-12-05</td>\n",
       "      <td>KOSPI</td>\n",
       "      <td>주권</td>\n",
       "      <td></td>\n",
       "      <td>보통주</td>\n",
       "      <td>5,000</td>\n",
       "      <td>64,242,645</td>\n",
       "      <td>17793</td>\n",
       "    </tr>\n",
       "    <tr>\n",
       "      <th>2744</th>\n",
       "      <td>KR7003280005</td>\n",
       "      <td>003280</td>\n",
       "      <td>흥아해운보통주</td>\n",
       "      <td>흥아해운</td>\n",
       "      <td>HeungaShipping</td>\n",
       "      <td>1976-06-29</td>\n",
       "      <td>KOSPI</td>\n",
       "      <td>주권</td>\n",
       "      <td></td>\n",
       "      <td>보통주</td>\n",
       "      <td>500</td>\n",
       "      <td>240,424,899</td>\n",
       "      <td>17221</td>\n",
       "    </tr>\n",
       "    <tr>\n",
       "      <th>2745</th>\n",
       "      <td>KR7037440005</td>\n",
       "      <td>037440</td>\n",
       "      <td>희림종합건축사사무소</td>\n",
       "      <td>희림</td>\n",
       "      <td>Heerim Architects &amp; Planners</td>\n",
       "      <td>2000-02-03</td>\n",
       "      <td>KOSDAQ</td>\n",
       "      <td>주권</td>\n",
       "      <td>우량기업부</td>\n",
       "      <td>보통주</td>\n",
       "      <td>500</td>\n",
       "      <td>13,922,475</td>\n",
       "      <td>8602</td>\n",
       "    </tr>\n",
       "    <tr>\n",
       "      <th>2746</th>\n",
       "      <td>KR7238490007</td>\n",
       "      <td>238490</td>\n",
       "      <td>힘스</td>\n",
       "      <td>힘스</td>\n",
       "      <td>HIMS CO., LTD.</td>\n",
       "      <td>2017-07-20</td>\n",
       "      <td>KOSDAQ</td>\n",
       "      <td>주권</td>\n",
       "      <td>벤처기업부</td>\n",
       "      <td>보통주</td>\n",
       "      <td>500</td>\n",
       "      <td>11,312,236</td>\n",
       "      <td>2225</td>\n",
       "    </tr>\n",
       "  </tbody>\n",
       "</table>\n",
       "<p>2569 rows × 13 columns</p>\n",
       "</div>"
      ],
      "text/plain": [
       "            ISU_CD ISU_SRT_CD        ISU_NM ISU_ABBRV   \n",
       "0     KR7098120009     098120  (주)마이크로컨텍솔루션   마이크로컨텍솔  \\\n",
       "1     KR7009520008     009520      (주)포스코엠텍     포스코엠텍   \n",
       "2     KR7095570008     095570     AJ네트웍스보통주    AJ네트웍스   \n",
       "3     KR7006840003     006840      AK홀딩스보통주     AK홀딩스   \n",
       "4     KR7282330000     282330     BGF리테일보통주    BGF리테일   \n",
       "...            ...        ...           ...       ...   \n",
       "2742  KR7000541003     000545  흥국화재해상보험1우선주     흥국화재우   \n",
       "2743  KR7000540005     000540   흥국화재해상보험보통주      흥국화재   \n",
       "2744  KR7003280005     003280       흥아해운보통주      흥아해운   \n",
       "2745  KR7037440005     037440    희림종합건축사사무소        희림   \n",
       "2746  KR7238490007     238490            힘스        힘스   \n",
       "\n",
       "                           ISU_ENG_NM    LIST_DD MKT_TP_NM SECUGRP_NM   \n",
       "0     Micro Contact Solution Co.,Ltd. 2008-09-23    KOSDAQ         주권  \\\n",
       "1               POSCO M-TECH CO.,LTD. 1997-11-10    KOSDAQ         주권   \n",
       "2                AJ Networks Co.,Ltd. 2015-08-21     KOSPI         주권   \n",
       "3                   AK Holdings, Inc. 1999-08-11     KOSPI         주권   \n",
       "4                          BGF Retail 2017-12-08     KOSPI         주권   \n",
       "...                               ...        ...       ...        ...   \n",
       "2742       HeungkukFire&MarineIns(1P) 1990-03-20     KOSPI         주권   \n",
       "2743     HeungkukFire&MarineInsurance 1974-12-05     KOSPI         주권   \n",
       "2744                   HeungaShipping 1976-06-29     KOSPI         주권   \n",
       "2745     Heerim Architects & Planners 2000-02-03    KOSDAQ         주권   \n",
       "2746                   HIMS CO., LTD. 2017-07-20    KOSDAQ         주권   \n",
       "\n",
       "     SECT_TP_NM KIND_STKCERT_TP_NM PARVAL    LIST_SHRS   현재까지  \n",
       "0         중견기업부                보통주    500    8,312,766   5447  \n",
       "1         우량기업부                보통주    500   41,642,703   9417  \n",
       "2                              보통주  1,000   46,822,295   2924  \n",
       "3                              보통주  5,000   13,247,561   8778  \n",
       "4                              보통주  1,000   17,283,906   2084  \n",
       "...         ...                ...    ...          ...    ...  \n",
       "2742                         구형우선주  5,000      768,000  12209  \n",
       "2743                           보통주  5,000   64,242,645  17793  \n",
       "2744                           보통주    500  240,424,899  17221  \n",
       "2745      우량기업부                보통주    500   13,922,475   8602  \n",
       "2746      벤처기업부                보통주    500   11,312,236   2225  \n",
       "\n",
       "[2569 rows x 13 columns]"
      ]
     },
     "execution_count": 36,
     "metadata": {},
     "output_type": "execute_result"
    }
   ],
   "source": [
    "target"
   ]
  },
  {
   "cell_type": "code",
   "execution_count": 44,
   "id": "460b4167-f2e0-4c0c-84fd-140d87dbd7dc",
   "metadata": {
    "tags": []
   },
   "outputs": [],
   "source": [
    "import requests\n",
    "sise_url = \"https://api.finance.naver.com/siseJson.naver?symbol={}&requestType=1&startTime=2020101&endTime=20230823&timeframe=day\""
   ]
  },
  {
   "cell_type": "code",
   "execution_count": 16,
   "id": "9bc9052c-f677-485f-9060-ed737beaa3b6",
   "metadata": {
    "tags": []
   },
   "outputs": [],
   "source": [
    "r2 = requests.post(sise_url)"
   ]
  },
  {
   "cell_type": "code",
   "execution_count": 17,
   "id": "37a3ae29-32fb-4a8b-a87f-fb98defa32f0",
   "metadata": {
    "scrolled": true,
    "tags": []
   },
   "outputs": [],
   "source": [
    "data_list = eval(r2.text.replace(\"\\n\", \"\").strip())"
   ]
  },
  {
   "cell_type": "code",
   "execution_count": 18,
   "id": "b15a6989-4ea8-4711-9d80-7e1e7d9b8364",
   "metadata": {
    "tags": []
   },
   "outputs": [
    {
     "data": {
      "text/plain": [
       "712"
      ]
     },
     "execution_count": 18,
     "metadata": {},
     "output_type": "execute_result"
    }
   ],
   "source": [
    "data_list.__len__()"
   ]
  },
  {
   "cell_type": "markdown",
   "id": "ec5f784e-e4e1-4a6f-ba2e-041515ba5705",
   "metadata": {},
   "source": [
    "요청사항 : stock 폴더에 종목코드.csv 형태로 저장(kospi, kosdaq) \n",
    "\n",
    "예) "
   ]
  },
  {
   "cell_type": "code",
   "execution_count": null,
   "id": "8bb7838b-46b5-4a8e-bfe7-4d7ddb04dd8c",
   "metadata": {
    "scrolled": true,
    "tags": []
   },
   "outputs": [
    {
     "name": "stderr",
     "output_type": "stream",
     "text": [
      " 49%|████▊     | 1250/2569 [02:11<01:50, 11.92it/s]"
     ]
    }
   ],
   "source": [
    "import os \n",
    "import csv\n",
    "from tqdm import tqdm\n",
    "if os.path.isdir(\"./stock\")  == False:\n",
    "    os.mkdir(\"./stock\")\n",
    "\n",
    "for code in tqdm(target['ISU_SRT_CD']):\n",
    "    r2 = requests.post(sise_url.format(code))\n",
    "    data_list = eval(r2.text.replace(\"\\n\", \"\").strip())\n",
    "    with open('./stock/{}.csv'.format(code), 'w', encoding='utf-8-sig', newline='') as csvfile:\n",
    "        writer = csv.writer(csvfile)\n",
    "        for x in data_list:\n",
    "            writer.writerow(x)"
   ]
  }
 ],
 "metadata": {
  "kernelspec": {
   "display_name": "Python 3 (ipykernel)",
   "language": "python",
   "name": "python3"
  },
  "language_info": {
   "codemirror_mode": {
    "name": "ipython",
    "version": 3
   },
   "file_extension": ".py",
   "mimetype": "text/x-python",
   "name": "python",
   "nbconvert_exporter": "python",
   "pygments_lexer": "ipython3",
   "version": "3.10.10"
  }
 },
 "nbformat": 4,
 "nbformat_minor": 5
}
