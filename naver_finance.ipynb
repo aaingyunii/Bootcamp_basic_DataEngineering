{
 "cells": [
  {
   "cell_type": "code",
   "execution_count": 3,
   "metadata": {},
   "outputs": [],
   "source": [
    "import requests"
   ]
  },
  {
   "cell_type": "code",
   "execution_count": 1,
   "metadata": {},
   "outputs": [],
   "source": [
    "url = \"http://data.krx.co.kr/comm/bldAttendant/getJsonData.cmd\"\n",
    "\n",
    "payload ={\n",
    "\"bld\" : \"dbms/MDC/STAT/standard/MDCSTAT01901\",\n",
    "\"locale\": \"ko_KR\",\n",
    "\"mktId\": \"ALL\",\n",
    "\"share\": \"1\",\n",
    "\"csvxls_isNo\" : \"false\",\n",
    "}\n",
    "\n",
    "head = {\"User-Agent\" :\n",
    "    \"Mozilla/5.0 (Windows NT 10.0; Win64; x64) AppleWebKit/537.36 (KHTML, like Gecko) Chrome/116.0.0.0 Safari/537.36\"}"
   ]
  },
  {
   "cell_type": "code",
   "execution_count": 4,
   "metadata": {},
   "outputs": [],
   "source": [
    "r = requests.post(url, payload, headers=head)"
   ]
  },
  {
   "cell_type": "code",
   "execution_count": 21,
   "metadata": {},
   "outputs": [],
   "source": [
    "# r.text\n",
    "\n",
    "## check this\n",
    "# r.json()['OutBlock_1']"
   ]
  },
  {
   "cell_type": "code",
   "execution_count": 6,
   "metadata": {},
   "outputs": [],
   "source": [
    "import pandas as pd\n",
    "\n",
    "df = pd.DataFrame(r.json()['OutBlock_1'])\n",
    "# df"
   ]
  },
  {
   "cell_type": "code",
   "execution_count": null,
   "metadata": {},
   "outputs": [],
   "source": []
  },
  {
   "cell_type": "markdown",
   "metadata": {},
   "source": [
    "### 무슨 요일에 상장을 했을 지 알아보는 전처리 1"
   ]
  },
  {
   "cell_type": "code",
   "execution_count": 33,
   "metadata": {},
   "outputs": [],
   "source": [
    "from datetime import datetime\n",
    "\n",
    "date_format = \"%Y/%m/%d\" \n",
    "weekday_values = []  \n",
    "\n",
    "days = {\n",
    "    0: 'Mon', \n",
    "    1: 'Tue', \n",
    "    2: 'Wed', \n",
    "    3: 'Thu', \n",
    "    4: 'Fri', \n",
    "    5: 'Sat', \n",
    "    6: 'Sun'\n",
    "    }\n",
    "\n",
    "for i in df['LIST_DD']:\n",
    "    date_obj = datetime.strptime(i, date_format)\n",
    "\n",
    "    weekday = days[date_obj.weekday()]\n",
    "    weekday_values.append(weekday)\n",
    "\n",
    "df['LIST_DD'] = weekday_values "
   ]
  },
  {
   "cell_type": "code",
   "execution_count": 34,
   "metadata": {},
   "outputs": [
    {
     "data": {
      "text/plain": [
       "LIST_DD\n",
       "Fri    667\n",
       "Thu    573\n",
       "Tue    557\n",
       "Wed    490\n",
       "Mon    383\n",
       "Sat     78\n",
       "Name: count, dtype: int64"
      ]
     },
     "execution_count": 34,
     "metadata": {},
     "output_type": "execute_result"
    }
   ],
   "source": [
    "df['LIST_DD'].value_counts()"
   ]
  },
  {
   "cell_type": "code",
   "execution_count": null,
   "metadata": {},
   "outputs": [],
   "source": []
  },
  {
   "cell_type": "markdown",
   "metadata": {},
   "source": [
    "### 무슨 요일에 상장을 했을 지 알아보는 전처리 2"
   ]
  },
  {
   "cell_type": "code",
   "execution_count": 72,
   "metadata": {},
   "outputs": [],
   "source": [
    "df['LIST_DD'] = pd.to_datetime(df['LIST_DD'])"
   ]
  },
  {
   "cell_type": "code",
   "execution_count": 73,
   "metadata": {},
   "outputs": [],
   "source": [
    "master = dict(zip(range(0,7),\"월화수목금토일\"))"
   ]
  },
  {
   "cell_type": "code",
   "execution_count": 74,
   "metadata": {},
   "outputs": [
    {
     "data": {
      "text/plain": [
       "LIST_DD\n",
       "금    667\n",
       "목    573\n",
       "화    557\n",
       "수    490\n",
       "월    383\n",
       "토     78\n",
       "Name: count, dtype: int64"
      ]
     },
     "execution_count": 74,
     "metadata": {},
     "output_type": "execute_result"
    }
   ],
   "source": [
    "df['LIST_DD'].apply(lambda x : master[x.weekday()]).value_counts()"
   ]
  },
  {
   "cell_type": "code",
   "execution_count": null,
   "metadata": {},
   "outputs": [],
   "source": []
  },
  {
   "cell_type": "code",
   "execution_count": 75,
   "metadata": {},
   "outputs": [
    {
     "data": {
      "text/html": [
       "<div>\n",
       "<style scoped>\n",
       "    .dataframe tbody tr th:only-of-type {\n",
       "        vertical-align: middle;\n",
       "    }\n",
       "\n",
       "    .dataframe tbody tr th {\n",
       "        vertical-align: top;\n",
       "    }\n",
       "\n",
       "    .dataframe thead th {\n",
       "        text-align: right;\n",
       "    }\n",
       "</style>\n",
       "<table border=\"1\" class=\"dataframe\">\n",
       "  <thead>\n",
       "    <tr style=\"text-align: right;\">\n",
       "      <th></th>\n",
       "      <th>ISU_CD</th>\n",
       "      <th>ISU_SRT_CD</th>\n",
       "      <th>ISU_NM</th>\n",
       "      <th>ISU_ABBRV</th>\n",
       "      <th>ISU_ENG_NM</th>\n",
       "      <th>LIST_DD</th>\n",
       "      <th>MKT_TP_NM</th>\n",
       "      <th>SECUGRP_NM</th>\n",
       "      <th>SECT_TP_NM</th>\n",
       "      <th>KIND_STKCERT_TP_NM</th>\n",
       "      <th>PARVAL</th>\n",
       "      <th>LIST_SHRS</th>\n",
       "    </tr>\n",
       "  </thead>\n",
       "  <tbody>\n",
       "    <tr>\n",
       "      <th>994</th>\n",
       "      <td>KR7015750003</td>\n",
       "      <td>015750</td>\n",
       "      <td>성우하이텍</td>\n",
       "      <td>성우하이텍</td>\n",
       "      <td>SUNGWOO HITECH CO., LTD</td>\n",
       "      <td>1995-11-04</td>\n",
       "      <td>KOSDAQ</td>\n",
       "      <td>주권</td>\n",
       "      <td>우량기업부</td>\n",
       "      <td>보통주</td>\n",
       "      <td>500</td>\n",
       "      <td>80,000,000</td>\n",
       "    </tr>\n",
       "    <tr>\n",
       "      <th>1200</th>\n",
       "      <td>KR7025980004</td>\n",
       "      <td>025980</td>\n",
       "      <td>아난티</td>\n",
       "      <td>아난티</td>\n",
       "      <td>Ananti Inc.</td>\n",
       "      <td>1996-01-06</td>\n",
       "      <td>KOSDAQ</td>\n",
       "      <td>주권</td>\n",
       "      <td>우량기업부</td>\n",
       "      <td>보통주</td>\n",
       "      <td>100</td>\n",
       "      <td>87,629,522</td>\n",
       "    </tr>\n",
       "    <tr>\n",
       "      <th>2379</th>\n",
       "      <td>KR7027710003</td>\n",
       "      <td>027710</td>\n",
       "      <td>팜스토리</td>\n",
       "      <td>팜스토리</td>\n",
       "      <td>FarmStory CO.,LTD.</td>\n",
       "      <td>1996-07-06</td>\n",
       "      <td>KOSDAQ</td>\n",
       "      <td>주권</td>\n",
       "      <td>우량기업부</td>\n",
       "      <td>보통주</td>\n",
       "      <td>500</td>\n",
       "      <td>111,416,600</td>\n",
       "    </tr>\n",
       "    <tr>\n",
       "      <th>1435</th>\n",
       "      <td>KR7028300002</td>\n",
       "      <td>028300</td>\n",
       "      <td>에이치엘비</td>\n",
       "      <td>HLB</td>\n",
       "      <td>HLB INC.</td>\n",
       "      <td>1996-07-27</td>\n",
       "      <td>KOSDAQ</td>\n",
       "      <td>주권</td>\n",
       "      <td>중견기업부</td>\n",
       "      <td>보통주</td>\n",
       "      <td>500</td>\n",
       "      <td>128,929,651</td>\n",
       "    </tr>\n",
       "    <tr>\n",
       "      <th>910</th>\n",
       "      <td>KR7032280000</td>\n",
       "      <td>032280</td>\n",
       "      <td>삼일</td>\n",
       "      <td>삼일</td>\n",
       "      <td>SamIl</td>\n",
       "      <td>1997-03-15</td>\n",
       "      <td>KOSDAQ</td>\n",
       "      <td>주권</td>\n",
       "      <td>중견기업부</td>\n",
       "      <td>보통주</td>\n",
       "      <td>1,000</td>\n",
       "      <td>16,213,590</td>\n",
       "    </tr>\n",
       "  </tbody>\n",
       "</table>\n",
       "</div>"
      ],
      "text/plain": [
       "            ISU_CD ISU_SRT_CD ISU_NM ISU_ABBRV               ISU_ENG_NM  \\\n",
       "994   KR7015750003     015750  성우하이텍     성우하이텍  SUNGWOO HITECH CO., LTD   \n",
       "1200  KR7025980004     025980    아난티       아난티              Ananti Inc.   \n",
       "2379  KR7027710003     027710   팜스토리      팜스토리       FarmStory CO.,LTD.   \n",
       "1435  KR7028300002     028300  에이치엘비       HLB                 HLB INC.   \n",
       "910   KR7032280000     032280     삼일        삼일                    SamIl   \n",
       "\n",
       "        LIST_DD MKT_TP_NM SECUGRP_NM SECT_TP_NM KIND_STKCERT_TP_NM PARVAL  \\\n",
       "994  1995-11-04    KOSDAQ         주권      우량기업부                보통주    500   \n",
       "1200 1996-01-06    KOSDAQ         주권      우량기업부                보통주    100   \n",
       "2379 1996-07-06    KOSDAQ         주권      우량기업부                보통주    500   \n",
       "1435 1996-07-27    KOSDAQ         주권      중견기업부                보통주    500   \n",
       "910  1997-03-15    KOSDAQ         주권      중견기업부                보통주  1,000   \n",
       "\n",
       "        LIST_SHRS  \n",
       "994    80,000,000  \n",
       "1200   87,629,522  \n",
       "2379  111,416,600  \n",
       "1435  128,929,651  \n",
       "910    16,213,590  "
      ]
     },
     "execution_count": 75,
     "metadata": {},
     "output_type": "execute_result"
    }
   ],
   "source": [
    "df[df['LIST_DD'].apply(lambda x : master[x.weekday()] == \"토\")].sort_values(\"LIST_DD\").tail(5)"
   ]
  },
  {
   "cell_type": "code",
   "execution_count": 76,
   "metadata": {},
   "outputs": [],
   "source": [
    "from datetime import date, datetime, timedelta\n",
    "df['현재까지'] = df['LIST_DD'].apply(lambda x : (datetime.now()-x).days)"
   ]
  },
  {
   "cell_type": "code",
   "execution_count": 77,
   "metadata": {},
   "outputs": [
    {
     "data": {
      "text/html": [
       "<div>\n",
       "<style scoped>\n",
       "    .dataframe tbody tr th:only-of-type {\n",
       "        vertical-align: middle;\n",
       "    }\n",
       "\n",
       "    .dataframe tbody tr th {\n",
       "        vertical-align: top;\n",
       "    }\n",
       "\n",
       "    .dataframe thead th {\n",
       "        text-align: right;\n",
       "    }\n",
       "</style>\n",
       "<table border=\"1\" class=\"dataframe\">\n",
       "  <thead>\n",
       "    <tr style=\"text-align: right;\">\n",
       "      <th></th>\n",
       "      <th>ISU_CD</th>\n",
       "      <th>ISU_SRT_CD</th>\n",
       "      <th>ISU_NM</th>\n",
       "      <th>ISU_ABBRV</th>\n",
       "      <th>ISU_ENG_NM</th>\n",
       "      <th>LIST_DD</th>\n",
       "      <th>MKT_TP_NM</th>\n",
       "      <th>SECUGRP_NM</th>\n",
       "      <th>SECT_TP_NM</th>\n",
       "      <th>KIND_STKCERT_TP_NM</th>\n",
       "      <th>PARVAL</th>\n",
       "      <th>LIST_SHRS</th>\n",
       "      <th>현재까지</th>\n",
       "    </tr>\n",
       "  </thead>\n",
       "  <tbody>\n",
       "    <tr>\n",
       "      <th>2311</th>\n",
       "      <td>KR7417790003</td>\n",
       "      <td>417790</td>\n",
       "      <td>트루엔</td>\n",
       "      <td>트루엔</td>\n",
       "      <td>TRUEN Co., Ltd</td>\n",
       "      <td>2023-05-17</td>\n",
       "      <td>KOSDAQ</td>\n",
       "      <td>주권</td>\n",
       "      <td>벤처기업부</td>\n",
       "      <td>보통주</td>\n",
       "      <td>100</td>\n",
       "      <td>10,999,650</td>\n",
       "      <td>99</td>\n",
       "    </tr>\n",
       "    <tr>\n",
       "      <th>2260</th>\n",
       "      <td>KR7446840001</td>\n",
       "      <td>446840</td>\n",
       "      <td>키움제8호기업인수목적</td>\n",
       "      <td>키움제8호스팩</td>\n",
       "      <td>Kiwoom No.8 Special Purpose Acquisition Company</td>\n",
       "      <td>2023-05-17</td>\n",
       "      <td>KOSDAQ</td>\n",
       "      <td>주권</td>\n",
       "      <td>SPAC(소속부없음)</td>\n",
       "      <td>보통주</td>\n",
       "      <td>100</td>\n",
       "      <td>5,880,000</td>\n",
       "      <td>99</td>\n",
       "    </tr>\n",
       "    <tr>\n",
       "      <th>2229</th>\n",
       "      <td>KR7456190008</td>\n",
       "      <td>456190</td>\n",
       "      <td>큐라켐</td>\n",
       "      <td>큐라켐</td>\n",
       "      <td>CURACHEM</td>\n",
       "      <td>2023-05-18</td>\n",
       "      <td>KONEX</td>\n",
       "      <td>주권</td>\n",
       "      <td>일반기업부</td>\n",
       "      <td>보통주</td>\n",
       "      <td>500</td>\n",
       "      <td>1,754,286</td>\n",
       "      <td>98</td>\n",
       "    </tr>\n",
       "    <tr>\n",
       "      <th>1181</th>\n",
       "      <td>KR7340810001</td>\n",
       "      <td>340810</td>\n",
       "      <td>씨유박스</td>\n",
       "      <td>씨유박스</td>\n",
       "      <td>CUBOX Co., Ltd</td>\n",
       "      <td>2023-05-19</td>\n",
       "      <td>KOSDAQ</td>\n",
       "      <td>주권</td>\n",
       "      <td>기술성장기업부</td>\n",
       "      <td>보통주</td>\n",
       "      <td>500</td>\n",
       "      <td>10,347,861</td>\n",
       "      <td>97</td>\n",
       "    </tr>\n",
       "    <tr>\n",
       "      <th>685</th>\n",
       "      <td>KR7434480000</td>\n",
       "      <td>434480</td>\n",
       "      <td>모니터랩</td>\n",
       "      <td>모니터랩</td>\n",
       "      <td>MONITORAPP CO., LTD.</td>\n",
       "      <td>2023-05-19</td>\n",
       "      <td>KOSDAQ</td>\n",
       "      <td>주권</td>\n",
       "      <td>기술성장기업부</td>\n",
       "      <td>보통주</td>\n",
       "      <td>100</td>\n",
       "      <td>12,083,500</td>\n",
       "      <td>97</td>\n",
       "    </tr>\n",
       "  </tbody>\n",
       "</table>\n",
       "</div>"
      ],
      "text/plain": [
       "            ISU_CD ISU_SRT_CD       ISU_NM ISU_ABBRV  \\\n",
       "2311  KR7417790003     417790          트루엔       트루엔   \n",
       "2260  KR7446840001     446840  키움제8호기업인수목적   키움제8호스팩   \n",
       "2229  KR7456190008     456190          큐라켐       큐라켐   \n",
       "1181  KR7340810001     340810         씨유박스      씨유박스   \n",
       "685   KR7434480000     434480         모니터랩      모니터랩   \n",
       "\n",
       "                                           ISU_ENG_NM    LIST_DD MKT_TP_NM  \\\n",
       "2311                                   TRUEN Co., Ltd 2023-05-17    KOSDAQ   \n",
       "2260  Kiwoom No.8 Special Purpose Acquisition Company 2023-05-17    KOSDAQ   \n",
       "2229                                         CURACHEM 2023-05-18     KONEX   \n",
       "1181                                   CUBOX Co., Ltd 2023-05-19    KOSDAQ   \n",
       "685                              MONITORAPP CO., LTD. 2023-05-19    KOSDAQ   \n",
       "\n",
       "     SECUGRP_NM   SECT_TP_NM KIND_STKCERT_TP_NM PARVAL   LIST_SHRS  현재까지  \n",
       "2311         주권        벤처기업부                보통주    100  10,999,650    99  \n",
       "2260         주권  SPAC(소속부없음)                보통주    100   5,880,000    99  \n",
       "2229         주권        일반기업부                보통주    500   1,754,286    98  \n",
       "1181         주권      기술성장기업부                보통주    500  10,347,861    97  \n",
       "685          주권      기술성장기업부                보통주    100  12,083,500    97  "
      ]
     },
     "execution_count": 77,
     "metadata": {},
     "output_type": "execute_result"
    }
   ],
   "source": [
    "# df.sort_values(by=\"현재까지\")\n",
    "df[df['현재까지']<100].sort_values(by=\"현재까지\",ascending=False).head()"
   ]
  },
  {
   "cell_type": "code",
   "execution_count": null,
   "metadata": {},
   "outputs": [],
   "source": []
  },
  {
   "cell_type": "code",
   "execution_count": 8,
   "metadata": {},
   "outputs": [
    {
     "data": {
      "text/plain": [
       "(2570, 12)"
      ]
     },
     "execution_count": 8,
     "metadata": {},
     "output_type": "execute_result"
    }
   ],
   "source": [
    "# KOSDAQ, KOSPI 에만 상장된 주식 데이터 가져오기\n",
    "\n",
    "target = df.loc[df.MKT_TP_NM.apply(lambda x : (x == 'KOSPI') or (x =='KOSDAQ'))].copy()\n",
    "target.shape\n",
    "##  위와 같은 결과 값.\n",
    "# target = df[df['MKT_TP_NM'].isin([\"KOSPI\",\"KOSDAQ\"])].copy()\n",
    "# target['ISU_SRT_CD']"
   ]
  },
  {
   "cell_type": "code",
   "execution_count": 25,
   "metadata": {},
   "outputs": [
    {
     "data": {
      "text/html": [
       "<div>\n",
       "<style scoped>\n",
       "    .dataframe tbody tr th:only-of-type {\n",
       "        vertical-align: middle;\n",
       "    }\n",
       "\n",
       "    .dataframe tbody tr th {\n",
       "        vertical-align: top;\n",
       "    }\n",
       "\n",
       "    .dataframe thead th {\n",
       "        text-align: right;\n",
       "    }\n",
       "</style>\n",
       "<table border=\"1\" class=\"dataframe\">\n",
       "  <thead>\n",
       "    <tr style=\"text-align: right;\">\n",
       "      <th></th>\n",
       "      <th>ISU_CD</th>\n",
       "      <th>ISU_SRT_CD</th>\n",
       "      <th>ISU_NM</th>\n",
       "      <th>ISU_ABBRV</th>\n",
       "      <th>ISU_ENG_NM</th>\n",
       "      <th>LIST_DD</th>\n",
       "      <th>MKT_TP_NM</th>\n",
       "      <th>SECUGRP_NM</th>\n",
       "      <th>SECT_TP_NM</th>\n",
       "      <th>KIND_STKCERT_TP_NM</th>\n",
       "      <th>PARVAL</th>\n",
       "      <th>LIST_SHRS</th>\n",
       "    </tr>\n",
       "  </thead>\n",
       "  <tbody>\n",
       "    <tr>\n",
       "      <th>1094</th>\n",
       "      <td>KR7418250007</td>\n",
       "      <td>418250</td>\n",
       "      <td>시큐레터</td>\n",
       "      <td>시큐레터</td>\n",
       "      <td>SecuLetter Co., Ltd.</td>\n",
       "      <td>2023-08-24</td>\n",
       "      <td>KOSDAQ</td>\n",
       "      <td>주권</td>\n",
       "      <td>기술성장기업부</td>\n",
       "      <td>보통주</td>\n",
       "      <td>500</td>\n",
       "      <td>7,911,521</td>\n",
       "    </tr>\n",
       "    <tr>\n",
       "      <th>1071</th>\n",
       "      <td>KR7424960003</td>\n",
       "      <td>424960</td>\n",
       "      <td>스마트레이더시스템</td>\n",
       "      <td>스마트레이더시스템</td>\n",
       "      <td>Smart Radar System, Inc.</td>\n",
       "      <td>2023-08-22</td>\n",
       "      <td>KOSDAQ</td>\n",
       "      <td>주권</td>\n",
       "      <td>기술성장기업부</td>\n",
       "      <td>보통주</td>\n",
       "      <td>500</td>\n",
       "      <td>14,836,340</td>\n",
       "    </tr>\n",
       "    <tr>\n",
       "      <th>293</th>\n",
       "      <td>KR7092790005</td>\n",
       "      <td>092790</td>\n",
       "      <td>넥스틸보통주</td>\n",
       "      <td>넥스틸</td>\n",
       "      <td>NEXTEEL</td>\n",
       "      <td>2023-08-21</td>\n",
       "      <td>KOSPI</td>\n",
       "      <td>주권</td>\n",
       "      <td></td>\n",
       "      <td>보통주</td>\n",
       "      <td>500</td>\n",
       "      <td>26,002,000</td>\n",
       "    </tr>\n",
       "    <tr>\n",
       "      <th>844</th>\n",
       "      <td>KR7210120002</td>\n",
       "      <td>210120</td>\n",
       "      <td>빅토리콘텐츠</td>\n",
       "      <td>빅텐츠</td>\n",
       "      <td>Victory Contents Co.,Ltd.</td>\n",
       "      <td>2023-08-17</td>\n",
       "      <td>KOSDAQ</td>\n",
       "      <td>주권</td>\n",
       "      <td>중견기업부</td>\n",
       "      <td>보통주</td>\n",
       "      <td>500</td>\n",
       "      <td>3,144,610</td>\n",
       "    </tr>\n",
       "    <tr>\n",
       "      <th>1383</th>\n",
       "      <td>KR7457940005</td>\n",
       "      <td>457940</td>\n",
       "      <td>에스케이증권제10호기업인수목적</td>\n",
       "      <td>에스케이증권제10호스팩</td>\n",
       "      <td>SK Securities No.10 Special Purpose Acquisitio...</td>\n",
       "      <td>2023-08-11</td>\n",
       "      <td>KOSDAQ</td>\n",
       "      <td>주권</td>\n",
       "      <td>SPAC(소속부없음)</td>\n",
       "      <td>보통주</td>\n",
       "      <td>100</td>\n",
       "      <td>3,310,000</td>\n",
       "    </tr>\n",
       "  </tbody>\n",
       "</table>\n",
       "</div>"
      ],
      "text/plain": [
       "            ISU_CD ISU_SRT_CD            ISU_NM     ISU_ABBRV  \\\n",
       "1094  KR7418250007     418250              시큐레터          시큐레터   \n",
       "1071  KR7424960003     424960         스마트레이더시스템     스마트레이더시스템   \n",
       "293   KR7092790005     092790            넥스틸보통주           넥스틸   \n",
       "844   KR7210120002     210120            빅토리콘텐츠           빅텐츠   \n",
       "1383  KR7457940005     457940  에스케이증권제10호기업인수목적  에스케이증권제10호스팩   \n",
       "\n",
       "                                             ISU_ENG_NM    LIST_DD MKT_TP_NM  \\\n",
       "1094                               SecuLetter Co., Ltd. 2023-08-24    KOSDAQ   \n",
       "1071                           Smart Radar System, Inc. 2023-08-22    KOSDAQ   \n",
       "293                                             NEXTEEL 2023-08-21     KOSPI   \n",
       "844                           Victory Contents Co.,Ltd. 2023-08-17    KOSDAQ   \n",
       "1383  SK Securities No.10 Special Purpose Acquisitio... 2023-08-11    KOSDAQ   \n",
       "\n",
       "     SECUGRP_NM   SECT_TP_NM KIND_STKCERT_TP_NM PARVAL   LIST_SHRS  \n",
       "1094         주권      기술성장기업부                보통주    500   7,911,521  \n",
       "1071         주권      기술성장기업부                보통주    500  14,836,340  \n",
       "293          주권                             보통주    500  26,002,000  \n",
       "844          주권        중견기업부                보통주    500   3,144,610  \n",
       "1383         주권  SPAC(소속부없음)                보통주    100   3,310,000  "
      ]
     },
     "execution_count": 25,
     "metadata": {},
     "output_type": "execute_result"
    }
   ],
   "source": [
    "target.sort_values('LIST_DD',ascending=False).head()"
   ]
  },
  {
   "cell_type": "code",
   "execution_count": null,
   "metadata": {},
   "outputs": [],
   "source": []
  },
  {
   "cell_type": "code",
   "execution_count": null,
   "metadata": {},
   "outputs": [],
   "source": []
  },
  {
   "cell_type": "markdown",
   "metadata": {},
   "source": [
    "## 네이버 증권 사이트에서 시세 가져오기"
   ]
  },
  {
   "cell_type": "code",
   "execution_count": 12,
   "metadata": {},
   "outputs": [],
   "source": [
    "import requests"
   ]
  },
  {
   "cell_type": "code",
   "execution_count": 38,
   "metadata": {},
   "outputs": [],
   "source": [
    "sise_url = \"https://api.finance.naver.com/siseJson.naver?symbol=004830&requestType=2&count=1000&startTime=20230823&timeframe=day\""
   ]
  },
  {
   "cell_type": "code",
   "execution_count": 39,
   "metadata": {},
   "outputs": [
    {
     "data": {
      "text/plain": [
       "<Response [200]>"
      ]
     },
     "execution_count": 39,
     "metadata": {},
     "output_type": "execute_result"
    }
   ],
   "source": [
    "r2 = requests.post(sise_url)\n",
    "r2"
   ]
  },
  {
   "cell_type": "code",
   "execution_count": 85,
   "metadata": {},
   "outputs": [],
   "source": [
    "eval(r2.text.replace(\"\\n\",\"\").strip())[0]\n",
    "\n",
    "tmp = eval(r2.text.replace(\"\\n\",\"\").strip())"
   ]
  },
  {
   "cell_type": "code",
   "execution_count": 47,
   "metadata": {},
   "outputs": [],
   "source": [
    "# pd.DataFrame(tmp[1:], columns=tmp[0])"
   ]
  },
  {
   "cell_type": "code",
   "execution_count": null,
   "metadata": {},
   "outputs": [],
   "source": []
  },
  {
   "cell_type": "code",
   "execution_count": null,
   "metadata": {},
   "outputs": [],
   "source": []
  },
  {
   "cell_type": "markdown",
   "metadata": {},
   "source": [
    "# stock 폴더에 종목코드 `.csv` 형태로 저장 (KOSPI, KOSDAQ)"
   ]
  },
  {
   "cell_type": "code",
   "execution_count": 40,
   "metadata": {},
   "outputs": [],
   "source": [
    "sise_url2 = \"https://api.finance.naver.com/siseJson.naver?symbol={}&requestType=1&startTime=2020101&endTime=20230823&timeframe=day\"\n",
    "\n"
   ]
  },
  {
   "cell_type": "code",
   "execution_count": 55,
   "metadata": {},
   "outputs": [
    {
     "name": "stderr",
     "output_type": "stream",
     "text": [
      "100%|██████████| 2570/2570 [02:41<00:00, 15.88it/s]\n"
     ]
    }
   ],
   "source": [
    "import tqdm\n",
    "## 앞으로 utf-8-sig 이것으로 인코딩하자\n",
    "\n",
    "for i in tqdm.tqdm(target['ISU_SRT_CD']):\n",
    "    r3 = requests.post(sise_url2.format(i))\n",
    "    tmp = eval(r3.text.replace(\"\\n\",\"\").strip())\n",
    "    temp_df = pd.DataFrame(tmp[1:], columns=tmp[0])\n",
    "    temp_df['StockCode'] = i\n",
    "     \n",
    "    temp_df.to_csv(\"C:\\workspace\\Bootcamp_basic_DataEngineering\\stock\\{}.csv\".format(i),encoding=\"utf-8-sig\")\n",
    "    "
   ]
  },
  {
   "cell_type": "code",
   "execution_count": 101,
   "metadata": {},
   "outputs": [
    {
     "name": "stdout",
     "output_type": "stream",
     "text": [
      "Help on function to_csv in module pandas.core.generic:\n",
      "\n",
      "to_csv(self, path_or_buf: 'FilePath | WriteBuffer[bytes] | WriteBuffer[str] | None' = None, sep: 'str' = ',', na_rep: 'str' = '', float_format: 'str | Callable | None' = None, columns: 'Sequence[Hashable] | None' = None, header: 'bool_t | list[str]' = True, index: 'bool_t' = True, index_label: 'IndexLabel | None' = None, mode: 'str' = 'w', encoding: 'str | None' = None, compression: 'CompressionOptions' = 'infer', quoting: 'int | None' = None, quotechar: 'str' = '\"', lineterminator: 'str | None' = None, chunksize: 'int | None' = None, date_format: 'str | None' = None, doublequote: 'bool_t' = True, escapechar: 'str | None' = None, decimal: 'str' = '.', errors: 'str' = 'strict', storage_options: 'StorageOptions' = None) -> 'str | None'\n",
      "    Write object to a comma-separated values (csv) file.\n",
      "    \n",
      "    Parameters\n",
      "    ----------\n",
      "    path_or_buf : str, path object, file-like object, or None, default None\n",
      "        String, path object (implementing os.PathLike[str]), or file-like\n",
      "        object implementing a write() function. If None, the result is\n",
      "        returned as a string. If a non-binary file object is passed, it should\n",
      "        be opened with `newline=''`, disabling universal newlines. If a binary\n",
      "        file object is passed, `mode` might need to contain a `'b'`.\n",
      "    \n",
      "        .. versionchanged:: 1.2.0\n",
      "    \n",
      "           Support for binary file objects was introduced.\n",
      "    \n",
      "    sep : str, default ','\n",
      "        String of length 1. Field delimiter for the output file.\n",
      "    na_rep : str, default ''\n",
      "        Missing data representation.\n",
      "    float_format : str, Callable, default None\n",
      "        Format string for floating point numbers. If a Callable is given, it takes\n",
      "        precedence over other numeric formatting parameters, like decimal.\n",
      "    columns : sequence, optional\n",
      "        Columns to write.\n",
      "    header : bool or list of str, default True\n",
      "        Write out the column names. If a list of strings is given it is\n",
      "        assumed to be aliases for the column names.\n",
      "    index : bool, default True\n",
      "        Write row names (index).\n",
      "    index_label : str or sequence, or False, default None\n",
      "        Column label for index column(s) if desired. If None is given, and\n",
      "        `header` and `index` are True, then the index names are used. A\n",
      "        sequence should be given if the object uses MultiIndex. If\n",
      "        False do not print fields for index names. Use index_label=False\n",
      "        for easier importing in R.\n",
      "    mode : str, default 'w'\n",
      "        Python write mode. The available write modes are the same as\n",
      "        :py:func:`open`.\n",
      "    encoding : str, optional\n",
      "        A string representing the encoding to use in the output file,\n",
      "        defaults to 'utf-8'. `encoding` is not supported if `path_or_buf`\n",
      "        is a non-binary file object.\n",
      "    compression : str or dict, default 'infer'\n",
      "        For on-the-fly compression of the output data. If 'infer' and 'path_or_buf' is\n",
      "        path-like, then detect compression from the following extensions: '.gz',\n",
      "        '.bz2', '.zip', '.xz', '.zst', '.tar', '.tar.gz', '.tar.xz' or '.tar.bz2'\n",
      "        (otherwise no compression).\n",
      "        Set to ``None`` for no compression.\n",
      "        Can also be a dict with key ``'method'`` set\n",
      "        to one of {``'zip'``, ``'gzip'``, ``'bz2'``, ``'zstd'``, ``'tar'``} and other\n",
      "        key-value pairs are forwarded to\n",
      "        ``zipfile.ZipFile``, ``gzip.GzipFile``,\n",
      "        ``bz2.BZ2File``, ``zstandard.ZstdCompressor`` or\n",
      "        ``tarfile.TarFile``, respectively.\n",
      "        As an example, the following could be passed for faster compression and to create\n",
      "        a reproducible gzip archive:\n",
      "        ``compression={'method': 'gzip', 'compresslevel': 1, 'mtime': 1}``.\n",
      "    \n",
      "        .. versionadded:: 1.5.0\n",
      "            Added support for `.tar` files.\n",
      "    \n",
      "        .. versionchanged:: 1.0.0\n",
      "    \n",
      "           May now be a dict with key 'method' as compression mode\n",
      "           and other entries as additional compression options if\n",
      "           compression mode is 'zip'.\n",
      "    \n",
      "        .. versionchanged:: 1.1.0\n",
      "    \n",
      "           Passing compression options as keys in dict is\n",
      "           supported for compression modes 'gzip', 'bz2', 'zstd', and 'zip'.\n",
      "    \n",
      "        .. versionchanged:: 1.2.0\n",
      "    \n",
      "            Compression is supported for binary file objects.\n",
      "    \n",
      "        .. versionchanged:: 1.2.0\n",
      "    \n",
      "            Previous versions forwarded dict entries for 'gzip' to\n",
      "            `gzip.open` instead of `gzip.GzipFile` which prevented\n",
      "            setting `mtime`.\n",
      "    \n",
      "    quoting : optional constant from csv module\n",
      "        Defaults to csv.QUOTE_MINIMAL. If you have set a `float_format`\n",
      "        then floats are converted to strings and thus csv.QUOTE_NONNUMERIC\n",
      "        will treat them as non-numeric.\n",
      "    quotechar : str, default '\\\"'\n",
      "        String of length 1. Character used to quote fields.\n",
      "    lineterminator : str, optional\n",
      "        The newline character or character sequence to use in the output\n",
      "        file. Defaults to `os.linesep`, which depends on the OS in which\n",
      "        this method is called ('\\\\n' for linux, '\\\\r\\\\n' for Windows, i.e.).\n",
      "    \n",
      "        .. versionchanged:: 1.5.0\n",
      "    \n",
      "            Previously was line_terminator, changed for consistency with\n",
      "            read_csv and the standard library 'csv' module.\n",
      "    \n",
      "    chunksize : int or None\n",
      "        Rows to write at a time.\n",
      "    date_format : str, default None\n",
      "        Format string for datetime objects.\n",
      "    doublequote : bool, default True\n",
      "        Control quoting of `quotechar` inside a field.\n",
      "    escapechar : str, default None\n",
      "        String of length 1. Character used to escape `sep` and `quotechar`\n",
      "        when appropriate.\n",
      "    decimal : str, default '.'\n",
      "        Character recognized as decimal separator. E.g. use ',' for\n",
      "        European data.\n",
      "    errors : str, default 'strict'\n",
      "        Specifies how encoding and decoding errors are to be handled.\n",
      "        See the errors argument for :func:`open` for a full list\n",
      "        of options.\n",
      "    \n",
      "        .. versionadded:: 1.1.0\n",
      "    \n",
      "    storage_options : dict, optional\n",
      "        Extra options that make sense for a particular storage connection, e.g.\n",
      "        host, port, username, password, etc. For HTTP(S) URLs the key-value pairs\n",
      "        are forwarded to ``urllib.request.Request`` as header options. For other\n",
      "        URLs (e.g. starting with \"s3://\", and \"gcs://\") the key-value pairs are\n",
      "        forwarded to ``fsspec.open``. Please see ``fsspec`` and ``urllib`` for more\n",
      "        details, and for more examples on storage options refer `here\n",
      "        <https://pandas.pydata.org/docs/user_guide/io.html?\n",
      "        highlight=storage_options#reading-writing-remote-files>`_.\n",
      "    \n",
      "        .. versionadded:: 1.2.0\n",
      "    \n",
      "    Returns\n",
      "    -------\n",
      "    None or str\n",
      "        If path_or_buf is None, returns the resulting csv format as a\n",
      "        string. Otherwise returns None.\n",
      "    \n",
      "    See Also\n",
      "    --------\n",
      "    read_csv : Load a CSV file into a DataFrame.\n",
      "    to_excel : Write DataFrame to an Excel file.\n",
      "    \n",
      "    Examples\n",
      "    --------\n",
      "    >>> df = pd.DataFrame({'name': ['Raphael', 'Donatello'],\n",
      "    ...                    'mask': ['red', 'purple'],\n",
      "    ...                    'weapon': ['sai', 'bo staff']})\n",
      "    >>> df.to_csv(index=False)\n",
      "    'name,mask,weapon\\nRaphael,red,sai\\nDonatello,purple,bo staff\\n'\n",
      "    \n",
      "    Create 'out.zip' containing 'out.csv'\n",
      "    \n",
      "    >>> compression_opts = dict(method='zip',\n",
      "    ...                         archive_name='out.csv')  # doctest: +SKIP\n",
      "    >>> df.to_csv('out.zip', index=False,\n",
      "    ...           compression=compression_opts)  # doctest: +SKIP\n",
      "    \n",
      "    To write a csv file to a new folder or nested folder you will first\n",
      "    need to create it using either Pathlib or os:\n",
      "    \n",
      "    >>> from pathlib import Path  # doctest: +SKIP\n",
      "    >>> filepath = Path('folder/subfolder/out.csv')  # doctest: +SKIP\n",
      "    >>> filepath.parent.mkdir(parents=True, exist_ok=True)  # doctest: +SKIP\n",
      "    >>> df.to_csv(filepath)  # doctest: +SKIP\n",
      "    \n",
      "    >>> import os  # doctest: +SKIP\n",
      "    >>> os.makedirs('folder/subfolder', exist_ok=True)  # doctest: +SKIP\n",
      "    >>> df.to_csv('folder/subfolder/out.csv')  # doctest: +SKIP\n",
      "\n"
     ]
    }
   ],
   "source": [
    "help(pd.DataFrame.to_csv)"
   ]
  },
  {
   "cell_type": "code",
   "execution_count": 54,
   "metadata": {},
   "outputs": [
    {
     "data": {
      "text/html": [
       "<div>\n",
       "<style scoped>\n",
       "    .dataframe tbody tr th:only-of-type {\n",
       "        vertical-align: middle;\n",
       "    }\n",
       "\n",
       "    .dataframe tbody tr th {\n",
       "        vertical-align: top;\n",
       "    }\n",
       "\n",
       "    .dataframe thead th {\n",
       "        text-align: right;\n",
       "    }\n",
       "</style>\n",
       "<table border=\"1\" class=\"dataframe\">\n",
       "  <thead>\n",
       "    <tr style=\"text-align: right;\">\n",
       "      <th></th>\n",
       "      <th>Unnamed: 0</th>\n",
       "      <th>날짜</th>\n",
       "      <th>시가</th>\n",
       "      <th>고가</th>\n",
       "      <th>저가</th>\n",
       "      <th>종가</th>\n",
       "      <th>거래량</th>\n",
       "      <th>외국인소진율</th>\n",
       "      <th>StockCode</th>\n",
       "    </tr>\n",
       "  </thead>\n",
       "  <tbody>\n",
       "    <tr>\n",
       "      <th>0</th>\n",
       "      <td>0</td>\n",
       "      <td>20201012</td>\n",
       "      <td>47500</td>\n",
       "      <td>47900</td>\n",
       "      <td>47200</td>\n",
       "      <td>47800</td>\n",
       "      <td>5710</td>\n",
       "      <td>8.29</td>\n",
       "      <td>1045</td>\n",
       "    </tr>\n",
       "    <tr>\n",
       "      <th>1</th>\n",
       "      <td>1</td>\n",
       "      <td>20201013</td>\n",
       "      <td>47800</td>\n",
       "      <td>48100</td>\n",
       "      <td>47550</td>\n",
       "      <td>48100</td>\n",
       "      <td>6059</td>\n",
       "      <td>8.31</td>\n",
       "      <td>1045</td>\n",
       "    </tr>\n",
       "    <tr>\n",
       "      <th>2</th>\n",
       "      <td>2</td>\n",
       "      <td>20201014</td>\n",
       "      <td>48100</td>\n",
       "      <td>48100</td>\n",
       "      <td>47400</td>\n",
       "      <td>47700</td>\n",
       "      <td>7670</td>\n",
       "      <td>8.33</td>\n",
       "      <td>1045</td>\n",
       "    </tr>\n",
       "    <tr>\n",
       "      <th>3</th>\n",
       "      <td>3</td>\n",
       "      <td>20201015</td>\n",
       "      <td>48250</td>\n",
       "      <td>48250</td>\n",
       "      <td>47200</td>\n",
       "      <td>47700</td>\n",
       "      <td>3207</td>\n",
       "      <td>8.33</td>\n",
       "      <td>1045</td>\n",
       "    </tr>\n",
       "    <tr>\n",
       "      <th>4</th>\n",
       "      <td>4</td>\n",
       "      <td>20201016</td>\n",
       "      <td>47700</td>\n",
       "      <td>47700</td>\n",
       "      <td>46100</td>\n",
       "      <td>47450</td>\n",
       "      <td>5199</td>\n",
       "      <td>8.34</td>\n",
       "      <td>1045</td>\n",
       "    </tr>\n",
       "  </tbody>\n",
       "</table>\n",
       "</div>"
      ],
      "text/plain": [
       "   Unnamed: 0        날짜     시가     고가     저가     종가   거래량  외국인소진율  StockCode\n",
       "0           0  20201012  47500  47900  47200  47800  5710    8.29       1045\n",
       "1           1  20201013  47800  48100  47550  48100  6059    8.31       1045\n",
       "2           2  20201014  48100  48100  47400  47700  7670    8.33       1045\n",
       "3           3  20201015  48250  48250  47200  47700  3207    8.33       1045\n",
       "4           4  20201016  47700  47700  46100  47450  5199    8.34       1045"
      ]
     },
     "execution_count": 54,
     "metadata": {},
     "output_type": "execute_result"
    }
   ],
   "source": [
    "pd.read_csv(\"C:\\workspace\\Bootcamp_basic_DataEngineering\\stock\\\\001045.csv\").head()"
   ]
  },
  {
   "cell_type": "markdown",
   "metadata": {},
   "source": [
    "### 위와 같지만 다른 코드"
   ]
  },
  {
   "cell_type": "code",
   "execution_count": 13,
   "metadata": {},
   "outputs": [],
   "source": [
    "import os\n",
    "import csv\n",
    "from tqdm import tqdm\n"
   ]
  },
  {
   "cell_type": "code",
   "execution_count": 15,
   "metadata": {},
   "outputs": [
    {
     "data": {
      "text/plain": [
       "<module 'ntpath' from 'C:\\\\Users\\\\Playdata\\\\anaconda3\\\\lib\\\\ntpath.py'>"
      ]
     },
     "execution_count": 15,
     "metadata": {},
     "output_type": "execute_result"
    }
   ],
   "source": [
    "os.path"
   ]
  },
  {
   "cell_type": "code",
   "execution_count": null,
   "metadata": {},
   "outputs": [],
   "source": [
    "\n",
    "## 주소 안에 stock 폴더 있는 지 여부 확인\n",
    "### 이후 없다면 생성까지.\n",
    "if os.path.isdir(\"./stock\")  == False:\n",
    "    os.mkdir(\"./stock\")"
   ]
  },
  {
   "cell_type": "code",
   "execution_count": null,
   "metadata": {},
   "outputs": [],
   "source": [
    "\n",
    "### csv 패키지를 활용해서 작성.\n",
    "for code in tqdm(target['ISU_SRT_CD']):\n",
    "    r2 = requests.post(sise_url.format(code))\n",
    "    data_list = eval(r2.text.replace(\"\\n\", \"\").strip())\n",
    "    with open('./stock/{}.csv'.format(code), 'w', encoding='utf-8-sig', newline='') as csvfile:\n",
    "        writer = csv.writer(csvfile)\n",
    "        for x in data_list:\n",
    "            writer.writerow(x)"
   ]
  },
  {
   "cell_type": "code",
   "execution_count": null,
   "metadata": {},
   "outputs": [],
   "source": []
  },
  {
   "cell_type": "code",
   "execution_count": null,
   "metadata": {},
   "outputs": [],
   "source": []
  },
  {
   "cell_type": "markdown",
   "metadata": {},
   "source": [
    "# 다운 받은 `csv` 파일들 `DB`에 저장."
   ]
  },
  {
   "cell_type": "code",
   "execution_count": 1,
   "metadata": {},
   "outputs": [],
   "source": [
    "import pandas as pd\n",
    "import pymysql"
   ]
  },
  {
   "cell_type": "code",
   "execution_count": 56,
   "metadata": {},
   "outputs": [],
   "source": [
    "con = pymysql.connect(host='localhost', user='root', password='8489',\n",
    "                db='encore', charset = 'utf8')"
   ]
  },
  {
   "cell_type": "code",
   "execution_count": 59,
   "metadata": {},
   "outputs": [
    {
     "data": {
      "text/plain": [
       "7"
      ]
     },
     "execution_count": 59,
     "metadata": {},
     "output_type": "execute_result"
    }
   ],
   "source": [
    "cur = con.cursor()\n",
    "cur.execute(\"show tables\")"
   ]
  },
  {
   "cell_type": "code",
   "execution_count": 58,
   "metadata": {},
   "outputs": [],
   "source": [
    "cr_table =\"\"\"CREATE TABLE stocks(\n",
    "    StockCode VARCHAR(255),\n",
    "    Date DATE,\n",
    "    Open INT(11),\n",
    "    High INT(11),\n",
    "    Low INT(11),\n",
    "    Close INT(11),\n",
    "    Volume INT(11),\n",
    "    foreignExRate FLOAT(7,2)\n",
    ");\"\"\""
   ]
  },
  {
   "cell_type": "code",
   "execution_count": 60,
   "metadata": {},
   "outputs": [
    {
     "data": {
      "text/plain": [
       "0"
      ]
     },
     "execution_count": 60,
     "metadata": {},
     "output_type": "execute_result"
    }
   ],
   "source": [
    "cur.execute(cr_table)"
   ]
  },
  {
   "cell_type": "code",
   "execution_count": 61,
   "metadata": {},
   "outputs": [],
   "source": [
    "sql = \"INSERT into stocks VALUES(%s, %s, %s, %s, %s, %s, %s, %s)\""
   ]
  },
  {
   "cell_type": "code",
   "execution_count": 62,
   "metadata": {},
   "outputs": [],
   "source": [
    "csv_file = pd.read_csv(\"C:\\workspace\\Bootcamp_basic_DataEngineering\\stock\\\\001045.csv\")"
   ]
  },
  {
   "cell_type": "code",
   "execution_count": null,
   "metadata": {},
   "outputs": [],
   "source": []
  },
  {
   "cell_type": "code",
   "execution_count": null,
   "metadata": {},
   "outputs": [],
   "source": []
  }
 ],
 "metadata": {
  "kernelspec": {
   "display_name": "venv",
   "language": "python",
   "name": "python3"
  },
  "language_info": {
   "codemirror_mode": {
    "name": "ipython",
    "version": 3
   },
   "file_extension": ".py",
   "mimetype": "text/x-python",
   "name": "python",
   "nbconvert_exporter": "python",
   "pygments_lexer": "ipython3",
   "version": "3.10.11"
  },
  "orig_nbformat": 4
 },
 "nbformat": 4,
 "nbformat_minor": 2
}
